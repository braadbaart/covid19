{
 "cells": [
  {
   "cell_type": "markdown",
   "metadata": {},
   "source": [
    "Countermeasures simulations\n",
    "-----------------------------------\n",
    "\n",
    "RNN-based approach to simulate the effect of timing and taking action on deaths-per-100k inhabitants."
   ]
  },
  {
   "cell_type": "code",
   "execution_count": null,
   "metadata": {},
   "outputs": [],
   "source": [
    "import datetime\n",
    "import random\n",
    "import numpy as np\n",
    "import pandas as pd\n",
    "import seaborn as sns\n",
    "import tensorflow as tf\n",
    "\n",
    "%matplotlib inline\n",
    "import matplotlib.pyplot as plt"
   ]
  },
  {
   "cell_type": "code",
   "execution_count": null,
   "metadata": {},
   "outputs": [],
   "source": [
    "tf.__version__"
   ]
  },
  {
   "cell_type": "code",
   "execution_count": null,
   "metadata": {},
   "outputs": [],
   "source": [
    "pd.options.display.max_colwidth = 200\n",
    "pd.options.display.max_columns = 100"
   ]
  },
  {
   "cell_type": "markdown",
   "metadata": {},
   "source": [
    "#### Data sources\n",
    "\n",
    "* The countermeasures data is made available as part of the John Hopkins [Containment Measures Database](http://epidemicforecasting.org/containment).\n",
    "* The Oxford COVID-19 Government Response Tracker is made available as part of the [OxCGRT](https://www.bsg.ox.ac.uk/research/research-projects/oxford-covid-19-government-response-tracker) project.\n",
    "* The country population data was gathered from the [Word Bank Databank](https://databank.worldbank.org/reports.aspx?source=2&series=SP.POP.TOTL&country=#), with latest data available for 2018."
   ]
  },
  {
   "cell_type": "code",
   "execution_count": null,
   "metadata": {},
   "outputs": [],
   "source": [
    "johnshopkins_df = pd.read_csv(\"data/countermeasures_db_johnshopkins_2020_03_30.csv\")\n",
    "johnshopkins_df[\"Date\"] = johnshopkins_df[\"Date\"].apply(lambda x: pd.to_datetime(x, format=\"%Y-%m-%d\")).dt.date"
   ]
  },
  {
   "cell_type": "code",
   "execution_count": null,
   "metadata": {},
   "outputs": [],
   "source": [
    "oxford_grt_df = pd.read_csv(\"data/oxford_uni_response_tracker_08042020.csv\")\n",
    "oxford_grt_df[\"Date\"] = oxford_grt_df[\"Date\"].apply(lambda x: pd.to_datetime(str(x), format=\"%Y-%m-%d\")).dt.date"
   ]
  },
  {
   "cell_type": "code",
   "execution_count": null,
   "metadata": {},
   "outputs": [],
   "source": [
    "grt_df = oxford_grt_df.drop_duplicates(subset=[\"CountryName\", \"StringencyIndex\"], keep=\"first\")"
   ]
  },
  {
   "cell_type": "code",
   "execution_count": null,
   "metadata": {},
   "outputs": [],
   "source": [
    "measures_df = pd.merge(johnshopkins_df, grt_df, how=\"outer\", left_on=[\"Date\", \"Country\"], \n",
    "                       right_on=[\"Date\", \"CountryName\"])"
   ]
  },
  {
   "cell_type": "code",
   "execution_count": null,
   "metadata": {},
   "outputs": [],
   "source": [
    "population_df = pd.read_csv(\"data/wb_country_populations_2018.csv\")[[\"Country Name\", \"2018 [YR2018]\"]]\n",
    "population_df.rename(columns={\"2018 [YR2018]\": \"2018_Country_Population\"}, inplace=True)"
   ]
  },
  {
   "cell_type": "code",
   "execution_count": null,
   "metadata": {},
   "outputs": [],
   "source": [
    "base_df = pd.merge(measures_df, population_df, how=\"outer\", left_on=\"Country\", right_on=\"Country Name\").fillna(0)\n",
    "base_df = base_df.loc[base_df[\"2018_Country_Population\"] != \"..\"]\n",
    "base_df = base_df.loc[base_df[\"Country\"] != 0]"
   ]
  },
  {
   "cell_type": "code",
   "execution_count": null,
   "metadata": {},
   "outputs": [],
   "source": [
    "base_df.head()"
   ]
  },
  {
   "cell_type": "code",
   "execution_count": null,
   "metadata": {},
   "outputs": [],
   "source": [
    "print(base_df[\"Country\"].unique())"
   ]
  },
  {
   "cell_type": "code",
   "execution_count": null,
   "metadata": {},
   "outputs": [],
   "source": [
    "base_df.columns"
   ]
  },
  {
   "cell_type": "code",
   "execution_count": null,
   "metadata": {},
   "outputs": [],
   "source": [
    "other_cm_cols = ['Unnamed: 0', 'Resumption', 'Diagnostic criteria tightened', 'Diagnostic criteria loosened',\n",
    "                 'Testing criteria', 'Date', 'Country', 'Confirmed Cases', 'Deaths', 'Country Name', 'CountryName',\n",
    "                 'CountryCode', 'ConfirmedCases', 'ConfirmedDeaths', 'StringencyIndex', 'StringencyIndexForDisplay',\n",
    "                 'Unnamed: 39', 'Country Name', '2018_Country_Population', 'Deaths_per_100k']"
   ]
  },
  {
   "cell_type": "code",
   "execution_count": null,
   "metadata": {},
   "outputs": [],
   "source": [
    "countermeasures = list(filter(lambda m: m not in other_cm_cols and not \n",
    "                              m.endswith(\"_Notes\") and not m.endswith(\"_IsGeneral\"), base_df.columns))"
   ]
  },
  {
   "cell_type": "code",
   "execution_count": null,
   "metadata": {},
   "outputs": [],
   "source": [
    "df = base_df[countermeasures + [\"Date\", \"Country\", \"Confirmed Cases\", \"Deaths\", \"2018_Country_Population\"]].fillna(0)"
   ]
  },
  {
   "cell_type": "code",
   "execution_count": null,
   "metadata": {},
   "outputs": [],
   "source": [
    "df[countermeasures] = df[countermeasures].mask(df[countermeasures] > 0, 1.0)"
   ]
  },
  {
   "cell_type": "markdown",
   "metadata": {},
   "source": [
    "## Simulation of the effect and timing of countermeasures\n",
    "\n",
    "Exploration of the impact of government countermeasures on reported Deaths per 100.000 citizens in a single country:\n",
    "\n",
    "* The [model weights](#Simulation-model) are learnt from the relation between countermeasures and mortality for all the other countries in the dataset.\n",
    "* The [counterfactual intervention](#Intervention) (the package of measures described below) is compared to the actual mortality rates.\n",
    "\n",
    "At the moment, the simulation doesn't yet take into account any factors other than the countermeasures (e.g. GDP, Healthcare efficiency, population age, population density) that will also play an important part in determining the morbidity in a country."
   ]
  },
  {
   "cell_type": "markdown",
   "metadata": {},
   "source": [
    "#### Simulation parameters"
   ]
  },
  {
   "cell_type": "code",
   "execution_count": null,
   "metadata": {},
   "outputs": [],
   "source": [
    "country = \"France\"\n",
    "package = [\"Nonessential business suspension\", \"School closure\", \"Gatherings banned\"]\n",
    "treatment_start = 21  # Counterfactual start date of intervention in days after first reported case"
   ]
  },
  {
   "cell_type": "markdown",
   "metadata": {},
   "source": [
    "#### Model parameters"
   ]
  },
  {
   "cell_type": "code",
   "execution_count": null,
   "metadata": {},
   "outputs": [],
   "source": [
    "rnn_params = {\n",
    "    \"sequence_length\": 4,\n",
    "    \"batch_size\": 32,\n",
    "    \"num_epochs\": 50,\n",
    "    \"cell_units\": 64,\n",
    "    \"mlp_cells\": 16,\n",
    "    \"dropout_rate\": 0.25\n",
    "}"
   ]
  },
  {
   "cell_type": "code",
   "execution_count": null,
   "metadata": {},
   "outputs": [],
   "source": [
    "train_validation_split = 0.85"
   ]
  },
  {
   "cell_type": "markdown",
   "metadata": {},
   "source": [
    "#### Preprocess the simulation data\n",
    "\n",
    "In the simulation data, the counterfactual treatment condition is coded '1.0' starting $n$ days after the first reported case of COVID-19 in the country."
   ]
  },
  {
   "cell_type": "code",
   "execution_count": null,
   "metadata": {},
   "outputs": [],
   "source": [
    "def create_simulation_data(df, country, simulated_measures, treatment_start, measures, seq_length):\n",
    "    \n",
    "    # Simulation parameters\n",
    "    sim_df = df[df[\"Country\"] == country].sort_values(by=\"Date\")\n",
    "    date_first_reported_case = sim_df.loc[sim_df[\"Confirmed Cases\"].ne(0.0).idxmax():, [\"Date\"]].values[0][0]\n",
    "    counterfactual_start_date = date_first_reported_case + datetime.timedelta(days=treatment_start)\n",
    "    \n",
    "    # Simulation counterfactuals\n",
    "    for countermeasure in simulated_measures:\n",
    "        actual_start_date = sim_df.loc[sim_df[countermeasure].idxmax(1.0):, [\"Date\"]].values[0][0]\n",
    "        difference_in_days = (actual_start_date - counterfactual_start_date).days\n",
    "        sim_df.loc[sim_df.index[sim_df[\"Date\"] == counterfactual_start_date].values[0]:, countermeasure] = 1.0\n",
    "        \n",
    "        print(f\"Setting counterfactual start date for treatment '{countermeasure}' to {str(counterfactual_start_date)}.\")\n",
    "        print(f\"Actual start date of treatment '{countermeasure}': {str(actual_start_date)}.\")\n",
    "        print(f\"Intervention in simulation occurs {difference_in_days} days prior to intervention in real life.\")\n",
    "        print(\"\\n\")\n",
    "        \n",
    "    sim_df[[\"Reported Deaths\", \"Reported Cases\"]] = sim_df[[\"Deaths\", \"Confirmed Cases\"]].diff()\n",
    "    sim_df[\"Mortality_per_100k\"] = sim_df[\"Reported Deaths\"] / (\n",
    "        sim_df[\"2018_Country_Population\"].astype(float) / 100000.0)\n",
    "    sim_df[\"Cases_per_100k\"] = sim_df[\"Reported Cases\"] / (\n",
    "        sim_df[\"2018_Country_Population\"].astype(float) / 100000.0)\n",
    "    sim_df = sim_df.fillna(0)\n",
    "    sim_df[\"DateIndex\"] = sim_df[\"Date\"]\n",
    "    sim_df = sim_df.set_index(\"DateIndex\")\n",
    "    \n",
    "    # Prepare data for model input\n",
    "    sim_label_df = sim_df[\"Mortality_per_100k\"]\n",
    "    sim_features_df = sim_df[measures + [\"Cases_per_100k\"]]\n",
    "    \n",
    "    sim_features = []\n",
    "    sim_labels = []\n",
    "\n",
    "    for i in range(int(len(sim_df) - seq_length)):\n",
    "        sim_labels.append(sim_label_df[i + seq_length])\n",
    "        sim_features.append(sim_features_df[i: (i + seq_length)].values)\n",
    "    \n",
    "    X = np.asarray(sim_features)\n",
    "    y = np.asarray(sim_labels)\n",
    "    y = y.reshape((y.shape[0], 1))\n",
    "    \n",
    "    return sim_df, X, y, counterfactual_start_date"
   ]
  },
  {
   "cell_type": "markdown",
   "metadata": {},
   "source": [
    "#### Intervention"
   ]
  },
  {
   "cell_type": "code",
   "execution_count": null,
   "metadata": {},
   "outputs": [],
   "source": [
    "simulation_df, sim_X, sim_y, cf_start_date = create_simulation_data(df, country, package, treatment_start, \n",
    "                                                                    countermeasures, rnn_params[\"sequence_length\"])"
   ]
  },
  {
   "cell_type": "code",
   "execution_count": null,
   "metadata": {},
   "outputs": [],
   "source": [
    "plt.figure(figsize=(16,4))\n",
    "sns.lineplot(x=simulation_df.index, y=\"Reported Deaths\", data=simulation_df)"
   ]
  },
  {
   "cell_type": "code",
   "execution_count": null,
   "metadata": {},
   "outputs": [],
   "source": [
    "record_start = simulation_df[\"Date\"].head(1).values[0]\n",
    "record_end = simulation_df[\"Date\"].tail(1).values[0]\n",
    "num_days = (record_end - record_start).days\n",
    "num_deaths = simulation_df[\"Deaths\"].tail(1).values[0]\n",
    "print(f\"Recorded {num_deaths} COVID-19 deaths from {str(record_start)} to {str(record_end)} ({num_days} days) in the factual data for {country}.\")"
   ]
  },
  {
   "cell_type": "markdown",
   "metadata": {},
   "source": [
    "#### Preprocess the training and validation data\n",
    "\n",
    "In the training data, actual observed mortality rates for COVID-19 all countries in the dataset is prepared as the dependent variable ($y$), with the countermeasures taken by national governments making up the features ($X$)."
   ]
  },
  {
   "cell_type": "code",
   "execution_count": null,
   "metadata": {},
   "outputs": [],
   "source": [
    "def create_train_and_validation_data(df, country, train_split, measures, seq_length):\n",
    "    train_df = df[df[\"Country\"] != country]\n",
    "    train_countries = list(filter(lambda c: c != country, df[\"Country\"].unique()))\n",
    "    \n",
    "    features = []\n",
    "    labels = []\n",
    "    \n",
    "    # Retrieve the feature sequences and mortality data for each of the countries in the dataset\n",
    "    for country in train_countries:\n",
    "        country_df = train_df[train_df[\"Country\"] == country].sort_values(by=\"Date\")\n",
    "        country_df[[\"Reported Deaths\", \"Reported Cases\"]] = country_df[[\"Deaths\", \"Confirmed Cases\"]].diff()\n",
    "        country_df[\"Mortality_per_100k\"] = country_df[\"Reported Deaths\"] / (\n",
    "            country_df[\"2018_Country_Population\"].astype(float) / 100000.0)\n",
    "        country_df[\"Cases_per_100k\"] = country_df[\"Reported Cases\"] / (\n",
    "            country_df[\"2018_Country_Population\"].astype(float) / 100000.0)\n",
    "        country_df = country_df.replace([-np.inf, np.inf], np.nan)\n",
    "        country_df = country_df.fillna(0)\n",
    "        country_df = country_df.set_index(\"Date\")\n",
    "        \n",
    "        country_label_df = country_df[\"Mortality_per_100k\"]\n",
    "        \n",
    "        country_label_df.loc[country_label_df < 0.0] = 0.0\n",
    "        country_features_df = country_df[measures + [\"Cases_per_100k\"]]\n",
    "        \n",
    "        for i in range(int(len(country_df) - seq_length)):\n",
    "            labels.append(country_label_df[i + seq_length])\n",
    "            features.append(country_features_df[i: (i + seq_length)].values)\n",
    "    \n",
    "    # Shuffle the data\n",
    "    split_point = int(len(features) * train_split)\n",
    "    data = list(zip(features, labels))\n",
    "    random.shuffle(data)\n",
    "    s_features, s_labels = zip(*data)\n",
    "    \n",
    "    # Prepare the data format for the model\n",
    "    train_X = np.asarray(s_features[0:split_point])\n",
    "    train_y = np.asarray(s_labels[0:split_point])\n",
    "    train_y = train_y.reshape((train_y.shape[0], 1))\n",
    "\n",
    "    val_X = np.asarray(s_features[split_point:len(features)])\n",
    "    val_y = np.asarray(s_labels[split_point:len(labels)])\n",
    "    val_y = val_y.reshape((val_y.shape[0], 1))\n",
    "    \n",
    "    return train_X, train_y, val_X, val_y"
   ]
  },
  {
   "cell_type": "code",
   "execution_count": null,
   "metadata": {},
   "outputs": [],
   "source": [
    "X, y, validation_X, validation_y = create_train_and_validation_data(df, country, train_validation_split, \n",
    "                                                                    countermeasures, rnn_params[\"sequence_length\"])"
   ]
  },
  {
   "cell_type": "code",
   "execution_count": null,
   "metadata": {},
   "outputs": [],
   "source": [
    "print(f\"Prepared {len(X)} training and {len(validation_X)} validation samples with feature dimensions {X.shape}.\")"
   ]
  },
  {
   "cell_type": "code",
   "execution_count": null,
   "metadata": {},
   "outputs": [],
   "source": [
    "pd.Series(y.T[0]).describe()"
   ]
  },
  {
   "cell_type": "code",
   "execution_count": null,
   "metadata": {},
   "outputs": [],
   "source": [
    "pd.Series(validation_y.T[0]).describe()"
   ]
  },
  {
   "cell_type": "markdown",
   "metadata": {},
   "source": [
    "### Simulation model"
   ]
  },
  {
   "cell_type": "code",
   "execution_count": null,
   "metadata": {},
   "outputs": [],
   "source": [
    "model = tf.keras.models.Sequential(name=\"simulation_model\")\n",
    "model.add(tf.keras.layers.LSTM(rnn_params[\"cell_units\"], bias_initializer='zeros',\n",
    "          input_shape=(rnn_params[\"sequence_length\"], len(countermeasures) + 1)))\n",
    "model.add(tf.keras.layers.Dropout(rnn_params[\"dropout_rate\"]))\n",
    "model.add(tf.keras.layers.Dense(rnn_params[\"mlp_cells\"], activation=\"relu\"))\n",
    "model.add(tf.keras.layers.Dropout(rnn_params[\"dropout_rate\"]))\n",
    "model.add(tf.keras.layers.Dense(1, activation=\"sigmoid\"))"
   ]
  },
  {
   "cell_type": "code",
   "execution_count": null,
   "metadata": {},
   "outputs": [],
   "source": [
    "model.compile(loss=\"mse\", optimizer=\"adam\", metrics=[\"mse\", \"mae\"])"
   ]
  },
  {
   "cell_type": "code",
   "execution_count": null,
   "metadata": {},
   "outputs": [],
   "source": [
    "model.summary()"
   ]
  },
  {
   "cell_type": "code",
   "execution_count": null,
   "metadata": {},
   "outputs": [],
   "source": [
    "early_stopping = tf.keras.callbacks.EarlyStopping(monitor=\"val_mae\", mode=\"min\", patience=2)"
   ]
  },
  {
   "cell_type": "markdown",
   "metadata": {},
   "source": [
    "#### Train the model"
   ]
  },
  {
   "cell_type": "code",
   "execution_count": null,
   "metadata": {},
   "outputs": [],
   "source": [
    "train = model.fit(X, y, epochs=rnn_params[\"num_epochs\"], batch_size=rnn_params[\"batch_size\"],\n",
    "                  callbacks=[early_stopping], validation_data=(validation_X, validation_y))"
   ]
  },
  {
   "cell_type": "code",
   "execution_count": null,
   "metadata": {},
   "outputs": [],
   "source": [
    "plt.plot(train.history[\"loss\"], label=\"MSE train loss\")\n",
    "plt.plot(train.history[\"val_loss\"], label=\"MSE validation loss\")\n",
    "plt.legend()\n",
    "plt.show()"
   ]
  },
  {
   "cell_type": "markdown",
   "metadata": {},
   "source": [
    "### Run the country simulation with the learnt RNN parameters"
   ]
  },
  {
   "cell_type": "code",
   "execution_count": null,
   "metadata": {},
   "outputs": [],
   "source": [
    "predicted_mortality = model.predict(sim_X)"
   ]
  },
  {
   "cell_type": "code",
   "execution_count": null,
   "metadata": {},
   "outputs": [],
   "source": [
    "pd.Series(predicted_mortality.T[0]).describe()"
   ]
  },
  {
   "cell_type": "code",
   "execution_count": null,
   "metadata": {},
   "outputs": [],
   "source": [
    "plt.figure(figsize=(16, 4))\n",
    "plt.plot(sim_y.T[0], label = \"observed mortality\")\n",
    "plt.plot(predicted_mortality, label = \"counterfactual mortality\")\n",
    "plt.legend()\n",
    "plt.title(f\"Observed vs counterfactual mortality rates in {country} with package <{', '.join(package)}> starting on {cf_start_date}.\")\n",
    "plt.show()"
   ]
  },
  {
   "cell_type": "code",
   "execution_count": null,
   "metadata": {},
   "outputs": [],
   "source": []
  },
  {
   "cell_type": "code",
   "execution_count": null,
   "metadata": {},
   "outputs": [],
   "source": []
  }
 ],
 "metadata": {
  "kernelspec": {
   "display_name": "covid",
   "language": "python",
   "name": "covid"
  },
  "language_info": {
   "codemirror_mode": {
    "name": "ipython",
    "version": 3
   },
   "file_extension": ".py",
   "mimetype": "text/x-python",
   "name": "python",
   "nbconvert_exporter": "python",
   "pygments_lexer": "ipython3",
   "version": "3.7.7"
  }
 },
 "nbformat": 4,
 "nbformat_minor": 4
}
