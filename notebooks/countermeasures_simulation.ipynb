{
 "cells": [
  {
   "cell_type": "markdown",
   "metadata": {},
   "source": [
    "Counterfactual simulation model for government interventions\n",
    "-------------------------------------------------------------------------\n",
    "\n",
    "RNN-based approach to simulate the effect of timing and taking action on deaths-per-100k inhabitants."
   ]
  },
  {
   "cell_type": "code",
   "execution_count": 1,
   "metadata": {},
   "outputs": [],
   "source": [
    "import datetime\n",
    "import random\n",
    "import numpy as np\n",
    "import pandas as pd\n",
    "import seaborn as sns\n",
    "import tensorflow as tf\n",
    "\n",
    "from sklearn.preprocessing import MinMaxScaler\n",
    "\n",
    "%matplotlib inline\n",
    "import matplotlib.pyplot as plt"
   ]
  },
  {
   "cell_type": "code",
   "execution_count": 2,
   "metadata": {},
   "outputs": [
    {
     "data": {
      "text/plain": [
       "'2.1.0'"
      ]
     },
     "execution_count": 2,
     "metadata": {},
     "output_type": "execute_result"
    }
   ],
   "source": [
    "tf.__version__"
   ]
  },
  {
   "cell_type": "code",
   "execution_count": 3,
   "metadata": {},
   "outputs": [],
   "source": [
    "pd.options.display.max_colwidth = 200\n",
    "pd.options.display.max_columns = 100"
   ]
  },
  {
   "cell_type": "markdown",
   "metadata": {},
   "source": [
    "#### Data sources\n",
    "\n",
    "* The countermeasures data is made available as part of the John Hopkins [Containment Measures Database](http://epidemicforecasting.org/containment).\n",
    "* The Oxford COVID-19 Government Response Tracker is made available as part of the [OxCGRT](https://www.bsg.ox.ac.uk/research/research-projects/oxford-covid-19-government-response-tracker) project.\n",
    "* The population data was gathered from the [Word Bank Databank](https://databank.worldbank.org/reports.aspx?source=2&series=SP.POP.TOTL&country=#). The latest data available in the World Bank data catalogue is for 2018."
   ]
  },
  {
   "cell_type": "code",
   "execution_count": 4,
   "metadata": {},
   "outputs": [],
   "source": [
    "johnshopkins_df = pd.read_csv(\"data/countermeasures_db_johnshopkins_2020_03_30.csv\")\n",
    "johnshopkins_df[\"Date\"] = johnshopkins_df[\"Date\"].apply(lambda x: pd.to_datetime(x, format=\"%Y-%m-%d\")).dt.date"
   ]
  },
  {
   "cell_type": "code",
   "execution_count": 5,
   "metadata": {},
   "outputs": [],
   "source": [
    "oxford_grt_df = pd.read_csv(\"data/oxford_uni_response_tracker_08042020.csv\")\n",
    "oxford_grt_df[\"Date\"] = oxford_grt_df[\"Date\"].apply(lambda x: pd.to_datetime(str(x), format=\"%Y-%m-%d\")).dt.date"
   ]
  },
  {
   "cell_type": "code",
   "execution_count": 6,
   "metadata": {},
   "outputs": [],
   "source": [
    "grt_df = oxford_grt_df.drop_duplicates(subset=[\"CountryName\", \"StringencyIndex\"], keep=\"first\")"
   ]
  },
  {
   "cell_type": "code",
   "execution_count": 7,
   "metadata": {},
   "outputs": [],
   "source": [
    "# measures_df = pd.merge(johnshopkins_df, grt_df, how=\"outer\", left_on=[\"Date\", \"Country\"], \n",
    "#                        right_on=[\"Date\", \"CountryName\"])\n",
    "measures_df = johnshopkins_df"
   ]
  },
  {
   "cell_type": "markdown",
   "metadata": {},
   "source": [
    "Preprocess the World Bank population statistics:\n",
    "\n",
    "* Total country population in 2018\n",
    "* GDP per capita in 2018\n",
    "* Percentage of the population aged 65 or above in 2018\n",
    "* Population density in 2018"
   ]
  },
  {
   "cell_type": "code",
   "execution_count": 8,
   "metadata": {},
   "outputs": [],
   "source": [
    "wb_df = pd.read_csv(\"data/wb_population_data.csv\")[[\"Series Name\", \"Country Name\", \"2018 [YR2018]\"]]\n",
    "wb_df.rename(columns={\"2018 [YR2018]\": \"2018\"}, inplace=True)\n",
    "wb_df = wb_df.replace(\"NA\", 0.0)\n",
    "wb_df = wb_df[wb_df[\"Country Name\"].notna()]"
   ]
  },
  {
   "cell_type": "code",
   "execution_count": 9,
   "metadata": {},
   "outputs": [],
   "source": [
    "population_df = wb_df[wb_df[\"Series Name\"] == \"Population, total\"]\n",
    "population_df = population_df[[\"Country Name\", \"2018\"]]\n",
    "population_df.rename(columns={\"2018\": \"2018_country_population\"}, inplace=True)"
   ]
  },
  {
   "cell_type": "code",
   "execution_count": 10,
   "metadata": {},
   "outputs": [
    {
     "name": "stderr",
     "output_type": "stream",
     "text": [
      "/Users/braadbaart/pysphere/covid/lib/python3.7/site-packages/ipykernel_launcher.py:6: SettingWithCopyWarning: \n",
      "A value is trying to be set on a copy of a slice from a DataFrame.\n",
      "Try using .loc[row_indexer,col_indexer] = value instead\n",
      "\n",
      "See the caveats in the documentation: https://pandas.pydata.org/pandas-docs/stable/user_guide/indexing.html#returning-a-view-versus-a-copy\n",
      "  \n"
     ]
    }
   ],
   "source": [
    "gdp_df = wb_df[wb_df[\"Series Name\"] == \"GDP per capita (constant 2010 US$)\"]\n",
    "\n",
    "scaler_0 = MinMaxScaler()\n",
    "scaled_gdp_per_capita = scaler_0.fit_transform(gdp_df[[\"2018\"]].values)\n",
    "\n",
    "gdp_df[\"2018_gdp_per_capita\"] = scaled_gdp_per_capita\n",
    "gdp_df = gdp_df[[\"Country Name\", \"2018_gdp_per_capita\"]]"
   ]
  },
  {
   "cell_type": "code",
   "execution_count": 11,
   "metadata": {},
   "outputs": [
    {
     "name": "stderr",
     "output_type": "stream",
     "text": [
      "/Users/braadbaart/pysphere/covid/lib/python3.7/site-packages/ipykernel_launcher.py:6: SettingWithCopyWarning: \n",
      "A value is trying to be set on a copy of a slice from a DataFrame.\n",
      "Try using .loc[row_indexer,col_indexer] = value instead\n",
      "\n",
      "See the caveats in the documentation: https://pandas.pydata.org/pandas-docs/stable/user_guide/indexing.html#returning-a-view-versus-a-copy\n",
      "  \n"
     ]
    }
   ],
   "source": [
    "elderly_df = wb_df[wb_df[\"Series Name\"] == \"Population ages 65 and above (% of total population)\"]\n",
    "\n",
    "scaler_1 = MinMaxScaler()\n",
    "scaled_percentages = scaler_1.fit_transform(elderly_df[[\"2018\"]].values)\n",
    "\n",
    "elderly_df[\"2018_elderly_percentage\"] = scaled_percentages\n",
    "elderly_df = elderly_df[[\"Country Name\", \"2018_elderly_percentage\"]]"
   ]
  },
  {
   "cell_type": "code",
   "execution_count": 12,
   "metadata": {},
   "outputs": [
    {
     "name": "stderr",
     "output_type": "stream",
     "text": [
      "/Users/braadbaart/pysphere/covid/lib/python3.7/site-packages/ipykernel_launcher.py:6: SettingWithCopyWarning: \n",
      "A value is trying to be set on a copy of a slice from a DataFrame.\n",
      "Try using .loc[row_indexer,col_indexer] = value instead\n",
      "\n",
      "See the caveats in the documentation: https://pandas.pydata.org/pandas-docs/stable/user_guide/indexing.html#returning-a-view-versus-a-copy\n",
      "  \n"
     ]
    }
   ],
   "source": [
    "pop_density_df = wb_df[wb_df[\"Series Name\"] == \"Population density (people per sq. km of land area)\"]\n",
    "\n",
    "scaler_2 = MinMaxScaler()\n",
    "scaled_density = scaler_2.fit_transform(pop_density_df[[\"2018\"]].values)\n",
    "\n",
    "pop_density_df[\"2018_population_density\"] = scaled_density\n",
    "pop_density_df = pop_density_df[[\"Country Name\", \"2018_population_density\"]]"
   ]
  },
  {
   "cell_type": "markdown",
   "metadata": {},
   "source": [
    "Merge the World Bank population and countermeasures data"
   ]
  },
  {
   "cell_type": "code",
   "execution_count": 13,
   "metadata": {},
   "outputs": [],
   "source": [
    "master_df = pd.merge(measures_df, population_df, how=\"outer\", left_on=\"Country\", right_on=\"Country Name\")\n",
    "master_df = pd.merge(master_df, gdp_df, how=\"outer\", on=\"Country Name\")\n",
    "master_df = pd.merge(master_df, elderly_df, how=\"outer\", on=\"Country Name\")\n",
    "master_df = pd.merge(master_df, pop_density_df, how=\"outer\", on=\"Country Name\")"
   ]
  },
  {
   "cell_type": "code",
   "execution_count": 14,
   "metadata": {},
   "outputs": [],
   "source": [
    "base_df = master_df.dropna(subset=[\"Country\"])\n",
    "base_df = base_df.fillna(0)"
   ]
  },
  {
   "cell_type": "code",
   "execution_count": 15,
   "metadata": {},
   "outputs": [
    {
     "name": "stdout",
     "output_type": "stream",
     "text": [
      "['Austria' 'Germany' 'United Kingdom' 'Vietnam' 'South Korea' 'Taiwan'\n",
      " 'Macau' 'Hong Kong' 'Czechia' 'Slovakia' 'Iran' 'Russia' 'Egypt'\n",
      " 'Kyrgyzstan' 'Singapore' 'Israel' 'Japan' 'Sweden' 'San Marino'\n",
      " 'Slovenia' 'Canada' 'China' 'Thailand' 'Italy' 'Australia'\n",
      " 'Trinidad and Tobago' 'Qatar' 'New Zealand' 'Colombia' 'Romania' 'France'\n",
      " 'Portugal' 'Spain' 'Belgium' 'Luxembourg' 'Albania' 'Andorra'\n",
      " 'Azerbaijan' 'Belarus' 'Bosnia and Herzegovina' 'Bulgaria' 'Denmark'\n",
      " 'Estonia' 'Cyprus' 'Croatia' 'Finland' 'Georgia' 'Hungary' 'Latvia'\n",
      " 'Lithuania' 'Greece' 'Moldova' 'Malta' 'Monaco' 'Netherlands' 'Iceland'\n",
      " 'Ireland' 'Kosovo' 'Kazakhstan' 'Poland' 'Turkey' 'Ukraine' 'Serbia'\n",
      " 'Switzerland' 'Norway' 'Montenegro' 'Liechtenstein' 'Mexico' 'Malaysia'\n",
      " 'Nepal' 'Afghanistan' 'Iraq' 'Philippines' 'Kuwait' 'South Africa'\n",
      " 'Armenia' 'Pakistan' 'Brazil' 'Costa Rica' 'Panama' 'India' 'Bahrain'\n",
      " 'United Arab Emirates' 'Indonesia' 'Namibia' 'Uganda']\n"
     ]
    }
   ],
   "source": [
    "print(base_df[\"Country\"].unique())"
   ]
  },
  {
   "cell_type": "code",
   "execution_count": 16,
   "metadata": {},
   "outputs": [],
   "source": [
    "other_cm_cols = ['Unnamed: 0', 'Resumption', 'Diagnostic criteria tightened', 'Diagnostic criteria loosened',\n",
    "                 'Testing criteria', 'Country Name', 'CountryName', 'CountryCode', 'ConfirmedCases', '2018',\n",
    "                 'ConfirmedDeaths', 'StringencyIndex', 'StringencyIndexForDisplay', 'Unnamed: 39', 'Country Name',\n",
    "                 'Series Name']"
   ]
  },
  {
   "cell_type": "code",
   "execution_count": 17,
   "metadata": {},
   "outputs": [],
   "source": [
    "metadata = [\"Date\", \"Country\", \"Confirmed Cases\", \"Deaths\", \"2018_country_population\"]"
   ]
  },
  {
   "cell_type": "code",
   "execution_count": 18,
   "metadata": {},
   "outputs": [],
   "source": [
    "country_features = [\"2018_gdp_per_capita\", \"2018_elderly_percentage\", \"2018_population_density\"]"
   ]
  },
  {
   "cell_type": "code",
   "execution_count": 19,
   "metadata": {},
   "outputs": [],
   "source": [
    "countermeasures = list(filter(lambda m: m not in other_cm_cols and m not in metadata and m not in country_features\n",
    "                              and not m.endswith(\"_Notes\") and not m.endswith(\"_IsGeneral\"), base_df.columns))"
   ]
  },
  {
   "cell_type": "code",
   "execution_count": 20,
   "metadata": {},
   "outputs": [],
   "source": [
    "df = base_df[metadata + country_features + countermeasures].fillna(0)"
   ]
  },
  {
   "cell_type": "code",
   "execution_count": 21,
   "metadata": {},
   "outputs": [],
   "source": [
    "df[countermeasures] = df[countermeasures].mask(df[countermeasures] > 0, 1.0)"
   ]
  },
  {
   "cell_type": "code",
   "execution_count": 22,
   "metadata": {},
   "outputs": [
    {
     "data": {
      "text/plain": [
       "['Symptomatic isolation - targeted',\n",
       " 'Symptomatic isolation - blanket',\n",
       " 'Asymptomatic isolation - targeted',\n",
       " 'Asymptomatic isolation - blanket',\n",
       " 'Domestic travel restriction',\n",
       " 'International travel restriction',\n",
       " 'Testing',\n",
       " 'Contact tracing',\n",
       " 'Mask wearing',\n",
       " 'Hand washing',\n",
       " 'Gatherings banned',\n",
       " 'Healthcare specialisation',\n",
       " 'Public education and incentives',\n",
       " 'Assisting people to stay home',\n",
       " 'Public cleaning',\n",
       " 'Miscellaneous hygiene measures',\n",
       " 'Public interaction reduction',\n",
       " 'Nonessential business suspension',\n",
       " 'School closure',\n",
       " 'Activity cancellation']"
      ]
     },
     "execution_count": 22,
     "metadata": {},
     "output_type": "execute_result"
    }
   ],
   "source": [
    "countermeasures"
   ]
  },
  {
   "cell_type": "markdown",
   "metadata": {},
   "source": [
    "## Simulation of the effect and timing of countermeasures\n",
    "\n",
    "Exploration of the impact of government countermeasures on reported Deaths per 100.000 citizens in a single country:\n",
    "\n",
    "* The [counterfactual intervention](#Intervention) (the package of measures described below) is compared to the actual mortality rates.\n",
    "* The [model weights](#Simulation-model) are learnt from the relation between countermeasures and mortality for all the other countries in the dataset.\n",
    "\n",
    "The [simulation itself](#Run-the-simulation) consists generating mortality predictions using partially counterfactual data and the model trained on 100% real (observed) data."
   ]
  },
  {
   "cell_type": "markdown",
   "metadata": {},
   "source": [
    "#### Model parameters"
   ]
  },
  {
   "cell_type": "code",
   "execution_count": 23,
   "metadata": {},
   "outputs": [],
   "source": [
    "params = {\n",
    "    \"sequence_length\": 4,\n",
    "    \"batch_size\": 16,\n",
    "    \"num_epochs\": 50,\n",
    "    \"cell_units\": 64,\n",
    "    \"mlp_cells\": 256,\n",
    "    \"dropout_rate\": 0.4\n",
    "}"
   ]
  },
  {
   "cell_type": "code",
   "execution_count": 24,
   "metadata": {},
   "outputs": [],
   "source": [
    "train_validation_split = 0.85"
   ]
  },
  {
   "cell_type": "markdown",
   "metadata": {},
   "source": [
    "#### Simulation parameters"
   ]
  },
  {
   "cell_type": "code",
   "execution_count": 25,
   "metadata": {},
   "outputs": [],
   "source": [
    "country = \"Germany\"\n",
    "package = [\"Asymptomatic isolation - blanket\", \"Gatherings banned\", \"Public interaction reduction\", \n",
    "           \"Nonessential business suspension\", \"School closure\"]\n",
    "treatment_start = 7 # Counterfactual start date of intervention in days after first reported case"
   ]
  },
  {
   "cell_type": "markdown",
   "metadata": {},
   "source": [
    "#### Preprocess the simulation data\n",
    "\n",
    "In the simulation data, the counterfactual treatment condition is coded '1.0' starting $n$ days after the first reported case of COVID-19 in the country."
   ]
  },
  {
   "cell_type": "code",
   "execution_count": 26,
   "metadata": {},
   "outputs": [],
   "source": [
    "def create_simulation_data(df, country, simulated_measures, treatment_start, measures, seq_length):\n",
    "    \n",
    "    # Simulation parameters\n",
    "    sim_df = df[df[\"Country\"] == country].sort_values(by=\"Date\")\n",
    "    date_first_reported_case = sim_df.loc[sim_df[\"Confirmed Cases\"].ne(0.0).idxmax():, [\"Date\"]].values[0][0]\n",
    "    counterfactual_start_date = date_first_reported_case + datetime.timedelta(days=treatment_start)\n",
    "    \n",
    "    # Simulation counterfactuals\n",
    "    for countermeasure in simulated_measures:\n",
    "        actual_start_date = sim_df.loc[sim_df[countermeasure].idxmax(1.0):, [\"Date\"]].values[0][0]\n",
    "        difference_in_days = (actual_start_date - counterfactual_start_date).days\n",
    "        sim_df.loc[sim_df.index[sim_df[\"Date\"] == counterfactual_start_date].values[0]:, countermeasure] = 1.0\n",
    "        \n",
    "        print(f\"Setting counterfactual start date for treatment '{countermeasure}' to {str(counterfactual_start_date)}.\")\n",
    "        print(f\"Actual start date of treatment '{countermeasure}': {str(actual_start_date)}.\")\n",
    "        print(f\"Intervention in simulation occurs {difference_in_days} days prior to intervention in real life.\")\n",
    "        print(\"\\n\")\n",
    "        \n",
    "    sim_df[[\"Reported Deaths\", \"Reported Cases\"]] = sim_df[[\"Deaths\", \"Confirmed Cases\"]].diff()\n",
    "    sim_df[\"Mortality_per_100k\"] = sim_df[\"Reported Deaths\"] / (\n",
    "        sim_df[\"2018_country_population\"].astype(float) / 100000.0)\n",
    "    sim_df[\"Cases_per_100k\"] = sim_df[\"Reported Cases\"] / (\n",
    "        sim_df[\"2018_country_population\"].astype(float) / 100000.0)\n",
    "    sim_df = sim_df.fillna(0)\n",
    "    sim_df[\"DateIndex\"] = sim_df[\"Date\"]\n",
    "    sim_df = sim_df.set_index(\"DateIndex\")\n",
    "    \n",
    "    # Prepare data for model input\n",
    "    sim_label_df = sim_df[\"Mortality_per_100k\"]\n",
    "    sim_features_df = sim_df[measures + [\"Cases_per_100k\"] + country_features]\n",
    "    \n",
    "    sim_features = []\n",
    "    sim_labels = []\n",
    "\n",
    "    for i in range(int(len(sim_df) - seq_length)):\n",
    "        sim_labels.append(sim_label_df[i + seq_length])\n",
    "        sim_features.append(sim_features_df[i: (i + seq_length)].values)\n",
    "    \n",
    "    X = np.asarray(sim_features)\n",
    "    y = np.asarray(sim_labels)\n",
    "    y = y.reshape((y.shape[0], 1))\n",
    "    \n",
    "    return sim_df, X, y, counterfactual_start_date"
   ]
  },
  {
   "cell_type": "markdown",
   "metadata": {},
   "source": [
    "#### Intervention"
   ]
  },
  {
   "cell_type": "code",
   "execution_count": 27,
   "metadata": {},
   "outputs": [
    {
     "name": "stdout",
     "output_type": "stream",
     "text": [
      "Setting counterfactual start date for treatment 'Asymptomatic isolation - blanket' to 2020-02-03.\n",
      "Actual start date of treatment 'Asymptomatic isolation - blanket': 2020-03-20.\n",
      "Intervention in simulation occurs 46 days prior to intervention in real life.\n",
      "\n",
      "\n",
      "Setting counterfactual start date for treatment 'Gatherings banned' to 2020-02-03.\n",
      "Actual start date of treatment 'Gatherings banned': 2020-03-09.\n",
      "Intervention in simulation occurs 35 days prior to intervention in real life.\n",
      "\n",
      "\n",
      "Setting counterfactual start date for treatment 'Public interaction reduction' to 2020-02-03.\n",
      "Actual start date of treatment 'Public interaction reduction': 2020-03-09.\n",
      "Intervention in simulation occurs 35 days prior to intervention in real life.\n",
      "\n",
      "\n",
      "Setting counterfactual start date for treatment 'Nonessential business suspension' to 2020-02-03.\n",
      "Actual start date of treatment 'Nonessential business suspension': 2020-03-14.\n",
      "Intervention in simulation occurs 40 days prior to intervention in real life.\n",
      "\n",
      "\n",
      "Setting counterfactual start date for treatment 'School closure' to 2020-02-03.\n",
      "Actual start date of treatment 'School closure': 2020-03-13.\n",
      "Intervention in simulation occurs 39 days prior to intervention in real life.\n",
      "\n",
      "\n"
     ]
    }
   ],
   "source": [
    "simulation_df, sim_X, sim_y, cf_start_date = create_simulation_data(df, country, package, treatment_start, \n",
    "                                                                    countermeasures, params[\"sequence_length\"])"
   ]
  },
  {
   "cell_type": "code",
   "execution_count": 28,
   "metadata": {},
   "outputs": [
    {
     "data": {
      "text/plain": [
       "<matplotlib.axes._subplots.AxesSubplot at 0x13e776b50>"
      ]
     },
     "execution_count": 28,
     "metadata": {},
     "output_type": "execute_result"
    },
    {
     "data": {
      "image/png": "[encoded data removed]",
      "text/plain": [
       "<Figure size 1152x288 with 1 Axes>"
      ]
     },
     "metadata": {
      "needs_background": "light"
     },
     "output_type": "display_data"
    }
   ],
   "source": [
    "plt.figure(figsize=(16,4))\n",
    "sns.lineplot(x=simulation_df.index, y=\"Reported Deaths\", data=simulation_df)"
   ]
  },
  {
   "cell_type": "code",
   "execution_count": 29,
   "metadata": {},
   "outputs": [
    {
     "name": "stdout",
     "output_type": "stream",
     "text": [
      "Recorded 533.0 COVID-19 deaths from 2020-01-23 to 2020-03-29 (66 days) in the factual data for Germany.\n"
     ]
    }
   ],
   "source": [
    "record_start = simulation_df[\"Date\"].head(1).values[0]\n",
    "record_end = simulation_df[\"Date\"].tail(1).values[0]\n",
    "num_days = (record_end - record_start).days\n",
    "num_deaths = simulation_df[\"Deaths\"].tail(1).values[0]\n",
    "print(f\"Recorded {num_deaths} COVID-19 deaths from {str(record_start)} to {str(record_end)} ({num_days} days) in the factual data for {country}.\")"
   ]
  },
  {
   "cell_type": "markdown",
   "metadata": {},
   "source": [
    "#### Holdout data\n",
    "\n",
    "The observed country data used to test the predictive performance of the model."
   ]
  },
  {
   "cell_type": "code",
   "execution_count": 30,
   "metadata": {},
   "outputs": [],
   "source": [
    "holdout_df, holdout_X, holdout_y, _ = create_simulation_data(df, country, [], 0, countermeasures, \n",
    "                                                             params[\"sequence_length\"])"
   ]
  },
  {
   "cell_type": "markdown",
   "metadata": {},
   "source": [
    "#### Preprocess the training and validation data\n",
    "\n",
    "In the training data, actual observed mortality rates for COVID-19 all countries in the dataset is prepared as the dependent variable ($y$), with the countermeasures taken by national governments making up the features ($X$)."
   ]
  },
  {
   "cell_type": "code",
   "execution_count": 31,
   "metadata": {},
   "outputs": [],
   "source": [
    "def create_train_and_validation_data(df, country, train_split, measures, seq_length):\n",
    "    train_df = df[df[\"Country\"] != country]\n",
    "    train_countries = list(filter(lambda c: c != country, df[\"Country\"].unique()))\n",
    "    \n",
    "    features = []\n",
    "    labels = []\n",
    "    \n",
    "    # Retrieve the feature sequences and mortality data for each of the countries in the dataset\n",
    "    for country in train_countries:\n",
    "        country_df = train_df[train_df[\"Country\"] == country].sort_values(by=\"Date\")\n",
    "        country_df[[\"Reported Deaths\", \"Reported Cases\"]] = country_df[[\"Deaths\", \"Confirmed Cases\"]].diff()\n",
    "        country_df[\"Mortality_per_100k\"] = country_df[\"Reported Deaths\"] / (\n",
    "            country_df[\"2018_country_population\"].astype(float) / 100000.0)\n",
    "        country_df[\"Cases_per_100k\"] = country_df[\"Reported Cases\"] / (\n",
    "            country_df[\"2018_country_population\"].astype(float) / 100000.0)\n",
    "        country_df = country_df.replace([-np.inf, np.inf], np.nan)\n",
    "        country_df = country_df.fillna(0)\n",
    "        country_df = country_df.set_index(\"Date\")\n",
    "        \n",
    "        country_label_df = country_df[\"Mortality_per_100k\"]\n",
    "        \n",
    "        country_label_df.loc[country_label_df < 0.0] = 0.0\n",
    "        country_features_df = country_df[measures + [\"Cases_per_100k\"] + country_features]\n",
    "        \n",
    "        for i in range(int(len(country_df) - seq_length)):\n",
    "            labels.append(country_label_df[i + seq_length])\n",
    "            features.append(country_features_df[i: (i + seq_length)].values)\n",
    "    \n",
    "    # Shuffle the data\n",
    "    split_point = int(len(features) * train_split)\n",
    "    data = list(zip(features, labels))\n",
    "    random.shuffle(data)\n",
    "    s_features, s_labels = zip(*data)\n",
    "    \n",
    "    # Prepare the data format for the model\n",
    "    train_X = np.asarray(s_features[0:split_point])\n",
    "    train_y = np.asarray(s_labels[0:split_point])\n",
    "    train_y = train_y.reshape((train_y.shape[0], 1))\n",
    "\n",
    "    val_X = np.asarray(s_features[split_point:len(features)])\n",
    "    val_y = np.asarray(s_labels[split_point:len(labels)])\n",
    "    val_y = val_y.reshape((val_y.shape[0], 1))\n",
    "    \n",
    "    return train_X, train_y, val_X, val_y"
   ]
  },
  {
   "cell_type": "code",
   "execution_count": 32,
   "metadata": {},
   "outputs": [
    {
     "name": "stderr",
     "output_type": "stream",
     "text": [
      "/Users/braadbaart/pysphere/covid/lib/python3.7/site-packages/pandas/core/indexing.py:671: SettingWithCopyWarning: \n",
      "A value is trying to be set on a copy of a slice from a DataFrame\n",
      "\n",
      "See the caveats in the documentation: https://pandas.pydata.org/pandas-docs/stable/user_guide/indexing.html#returning-a-view-versus-a-copy\n",
      "  self._setitem_with_indexer(indexer, value)\n"
     ]
    }
   ],
   "source": [
    "X, y, validation_X, validation_y = create_train_and_validation_data(df, country, train_validation_split, \n",
    "                                                                    countermeasures, params[\"sequence_length\"])"
   ]
  },
  {
   "cell_type": "code",
   "execution_count": 33,
   "metadata": {},
   "outputs": [
    {
     "name": "stdout",
     "output_type": "stream",
     "text": [
      "Prepared 4551 training and 804 validation samples with feature dimensions (4551, 4, 24).\n"
     ]
    }
   ],
   "source": [
    "print(f\"Prepared {len(X)} training and {len(validation_X)} validation samples with feature dimensions {X.shape}.\")"
   ]
  },
  {
   "cell_type": "code",
   "execution_count": 34,
   "metadata": {},
   "outputs": [
    {
     "data": {
      "text/plain": [
       "count    4551.000000\n",
       "mean        0.026412\n",
       "std         0.382178\n",
       "min         0.000000\n",
       "25%         0.000000\n",
       "50%         0.000000\n",
       "75%         0.000000\n",
       "max        17.759361\n",
       "dtype: float64"
      ]
     },
     "execution_count": 34,
     "metadata": {},
     "output_type": "execute_result"
    }
   ],
   "source": [
    "pd.Series(y.T[0]).describe()"
   ]
  },
  {
   "cell_type": "code",
   "execution_count": 35,
   "metadata": {},
   "outputs": [
    {
     "data": {
      "text/plain": [
       "count    804.000000\n",
       "mean       0.028648\n",
       "std        0.272800\n",
       "min        0.000000\n",
       "25%        0.000000\n",
       "50%        0.000000\n",
       "75%        0.000000\n",
       "max        5.919787\n",
       "dtype: float64"
      ]
     },
     "execution_count": 35,
     "metadata": {},
     "output_type": "execute_result"
    }
   ],
   "source": [
    "pd.Series(validation_y.T[0]).describe()"
   ]
  },
  {
   "cell_type": "markdown",
   "metadata": {},
   "source": [
    "### Simulation model"
   ]
  },
  {
   "cell_type": "code",
   "execution_count": 36,
   "metadata": {},
   "outputs": [],
   "source": [
    "inputs = tf.keras.layers.Input(shape=(params[\"sequence_length\"], len(countermeasures) + 1 + len(country_features)))\n",
    "lstm_output, h, c = tf.keras.layers.LSTM(params[\"cell_units\"], bias_initializer=\"random_uniform\", \n",
    "                                         kernel_initializer=\"truncated_normal\", return_state=True)(inputs)\n",
    "dropout_1 = tf.keras.layers.Dropout(params[\"dropout_rate\"])(lstm_output)\n",
    "mlp = tf.keras.layers.Dense(params[\"mlp_cells\"], activation=\"selu\", kernel_initializer=\"he_normal\",\n",
    "                            kernel_regularizer=tf.keras.regularizers.l2(0.3))(dropout_1)\n",
    "dropout_2 = tf.keras.layers.Dropout(params[\"dropout_rate\"])(mlp)\n",
    "output_layer = tf.keras.layers.Dense(1, activation=\"tanh\")(dropout_2)"
   ]
  },
  {
   "cell_type": "code",
   "execution_count": 37,
   "metadata": {},
   "outputs": [],
   "source": [
    "model = tf.keras.models.Model(inputs, output_layer, name=\"simulation_model\")\n",
    "model.compile(loss=\"mae\", optimizer=\"adam\", metrics=[\"mae\", \"mse\"])"
   ]
  },
  {
   "cell_type": "code",
   "execution_count": 38,
   "metadata": {},
   "outputs": [
    {
     "name": "stdout",
     "output_type": "stream",
     "text": [
      "Model: \"simulation_model\"\n",
      "_________________________________________________________________\n",
      "Layer (type)                 Output Shape              Param #   \n",
      "=================================================================\n",
      "input_1 (InputLayer)         [(None, 4, 24)]           0         \n",
      "_________________________________________________________________\n",
      "lstm (LSTM)                  [(None, 64), (None, 64),  22784     \n",
      "_________________________________________________________________\n",
      "dropout (Dropout)            (None, 64)                0         \n",
      "_________________________________________________________________\n",
      "dense (Dense)                (None, 256)               16640     \n",
      "_________________________________________________________________\n",
      "dropout_1 (Dropout)          (None, 256)               0         \n",
      "_________________________________________________________________\n",
      "dense_1 (Dense)              (None, 1)                 257       \n",
      "=================================================================\n",
      "Total params: 39,681\n",
      "Trainable params: 39,681\n",
      "Non-trainable params: 0\n",
      "_________________________________________________________________\n"
     ]
    }
   ],
   "source": [
    "model.summary()"
   ]
  },
  {
   "cell_type": "code",
   "execution_count": 39,
   "metadata": {},
   "outputs": [],
   "source": [
    "early_stopping = tf.keras.callbacks.EarlyStopping(monitor=\"loss\", mode=\"min\", patience=2)"
   ]
  },
  {
   "cell_type": "markdown",
   "metadata": {},
   "source": [
    "#### Train the model"
   ]
  },
  {
   "cell_type": "code",
   "execution_count": 40,
   "metadata": {},
   "outputs": [
    {
     "name": "stdout",
     "output_type": "stream",
     "text": [
      "Train on 4551 samples, validate on 804 samples\n",
      "Epoch 1/50\n",
      "4551/4551 [==============================] - 4s 888us/sample - loss: 52.7189 - mae: 0.0654 - mse: 0.1495 - val_loss: 9.1954 - val_mae: 0.0291 - val_mse: 0.0682\n",
      "Epoch 2/50\n",
      "4551/4551 [==============================] - 2s 384us/sample - loss: 2.8279 - mae: 0.0312 - mse: 0.1434 - val_loss: 0.3519 - val_mae: 0.0291 - val_mse: 0.0723\n",
      "Epoch 3/50\n",
      "4551/4551 [==============================] - 2s 393us/sample - loss: 0.1107 - mae: 0.0282 - mse: 0.1454 - val_loss: 0.0344 - val_mae: 0.0284 - val_mse: 0.0720\n",
      "Epoch 4/50\n",
      "4551/4551 [==============================] - 2s 413us/sample - loss: 0.0295 - mae: 0.0277 - mse: 0.1455 - val_loss: 0.0298 - val_mae: 0.0283 - val_mse: 0.0716\n",
      "Epoch 5/50\n",
      "4551/4551 [==============================] - 2s 376us/sample - loss: 0.0286 - mae: 0.0278 - mse: 0.1455 - val_loss: 0.0302 - val_mae: 0.0294 - val_mse: 0.0741\n",
      "Epoch 6/50\n",
      "4551/4551 [==============================] - 2s 396us/sample - loss: 0.0280 - mae: 0.0272 - mse: 0.1454 - val_loss: 0.0307 - val_mae: 0.0291 - val_mse: 0.0714\n",
      "Epoch 7/50\n",
      "4551/4551 [==============================] - 2s 399us/sample - loss: 0.0281 - mae: 0.0270 - mse: 0.1454 - val_loss: 0.0301 - val_mae: 0.0293 - val_mse: 0.0751\n",
      "Epoch 8/50\n",
      "4551/4551 [==============================] - 2s 376us/sample - loss: 0.0279 - mae: 0.0268 - mse: 0.1454 - val_loss: 0.0295 - val_mae: 0.0288 - val_mse: 0.0754\n",
      "Epoch 9/50\n",
      "4551/4551 [==============================] - 2s 371us/sample - loss: 0.0277 - mae: 0.0266 - mse: 0.1452 - val_loss: 0.0295 - val_mae: 0.0286 - val_mse: 0.0745\n",
      "Epoch 10/50\n",
      "4551/4551 [==============================] - 2s 375us/sample - loss: 0.0277 - mae: 0.0262 - mse: 0.1443 - val_loss: 0.0299 - val_mae: 0.0291 - val_mse: 0.0750\n",
      "Epoch 11/50\n",
      "4551/4551 [==============================] - 2s 373us/sample - loss: 0.0277 - mae: 0.0262 - mse: 0.1453 - val_loss: 0.0290 - val_mae: 0.0281 - val_mse: 0.0742\n"
     ]
    }
   ],
   "source": [
    "train = model.fit(X, y, epochs=params[\"num_epochs\"], batch_size=params[\"batch_size\"], callbacks=[early_stopping], \n",
    "                  validation_data=(validation_X, validation_y))"
   ]
  },
  {
   "cell_type": "code",
   "execution_count": 41,
   "metadata": {},
   "outputs": [
    {
     "data": {
      "image/png": "[encoded data removed]",
      "text/plain": [
       "<Figure size 432x288 with 1 Axes>"
      ]
     },
     "metadata": {
      "needs_background": "light"
     },
     "output_type": "display_data"
    }
   ],
   "source": [
    "plt.plot(train.history[\"loss\"], label=\"MSE train loss\")\n",
    "plt.plot(train.history[\"val_loss\"], label=\"MSE validation loss\")\n",
    "plt.legend()\n",
    "plt.show()"
   ]
  },
  {
   "cell_type": "markdown",
   "metadata": {},
   "source": [
    "#### Check the model performance against the country baseline"
   ]
  },
  {
   "cell_type": "code",
   "execution_count": 42,
   "metadata": {},
   "outputs": [],
   "source": [
    "predicted_mortality = list(map(lambda p: 0.0 if p <= 0.0 else p, model.predict(holdout_X).T[0]))"
   ]
  },
  {
   "cell_type": "code",
   "execution_count": 43,
   "metadata": {},
   "outputs": [
    {
     "name": "stdout",
     "output_type": "stream",
     "text": [
      "The current model performs with an average MSE of 0.00012651787767184406.\n"
     ]
    }
   ],
   "source": [
    "from sklearn.metrics import mean_squared_error\n",
    "\n",
    "print(f\"The current model performs with an average MSE of {mean_squared_error(holdout_y, predicted_mortality)}.\")"
   ]
  },
  {
   "cell_type": "code",
   "execution_count": 44,
   "metadata": {},
   "outputs": [],
   "source": [
    "predicted_deaths = int(sum(map(lambda d: d * (simulation_df[\"2018_country_population\"][0] / 100000), predicted_mortality)))\n",
    "observed_deaths = int(simulation_df[\"Deaths\"].tail(1).values[0])\n",
    "pred_pct_diff = \"{:.2f}\".format((predicted_deaths / observed_deaths) * 100)"
   ]
  },
  {
   "cell_type": "code",
   "execution_count": 45,
   "metadata": {},
   "outputs": [
    {
     "name": "stdout",
     "output_type": "stream",
     "text": [
      "Predicted vs observed deaths over 63 days: 461 vs 533, 86.49%.\n"
     ]
    }
   ],
   "source": [
    "print(f\"Predicted vs observed deaths over {len(predicted_mortality)} days: {predicted_deaths} vs {observed_deaths}, {pred_pct_diff}%.\")"
   ]
  },
  {
   "cell_type": "markdown",
   "metadata": {},
   "source": [
    "## Run the simulation"
   ]
  },
  {
   "cell_type": "code",
   "execution_count": 46,
   "metadata": {},
   "outputs": [],
   "source": [
    "counterfactual_mortality = list(map(lambda p: 0.0 if p <= 0.0 else p, model.predict(sim_X).T[0]))"
   ]
  },
  {
   "cell_type": "code",
   "execution_count": 47,
   "metadata": {},
   "outputs": [
    {
     "data": {
      "text/plain": [
       "count    63.000000\n",
       "mean      0.011257\n",
       "std       0.019821\n",
       "min       0.000000\n",
       "25%       0.001367\n",
       "50%       0.001377\n",
       "75%       0.005050\n",
       "max       0.066099\n",
       "dtype: float64"
      ]
     },
     "execution_count": 47,
     "metadata": {},
     "output_type": "execute_result"
    }
   ],
   "source": [
    "pd.Series(counterfactual_mortality).describe()"
   ]
  },
  {
   "cell_type": "code",
   "execution_count": 48,
   "metadata": {},
   "outputs": [
    {
     "data": {
      "image/png": "[encoded data removed]",
      "text/plain": [
       "<Figure size 1152x288 with 1 Axes>"
      ]
     },
     "metadata": {
      "needs_background": "light"
     },
     "output_type": "display_data"
    },
    {
     "name": "stdout",
     "output_type": "stream",
     "text": [
      "Package contents: Asymptomatic isolation - blanket, Gatherings banned, Public interaction reduction, Nonessential business suspension, School closure\n"
     ]
    }
   ],
   "source": [
    "plt.figure(figsize=(16, 4))\n",
    "plt.plot(sim_y.T[0], label = \"observed mortality\")\n",
    "plt.plot(counterfactual_mortality, label = \"counterfactual mortality\")\n",
    "plt.legend()\n",
    "plt.title(f\"Observed vs counterfactual mortality rates in {country} with the package starting on {cf_start_date}.\")\n",
    "plt.show()\n",
    "print(f\"Package contents: {', '.join(package)}\")"
   ]
  },
  {
   "cell_type": "code",
   "execution_count": 49,
   "metadata": {},
   "outputs": [],
   "source": [
    "simulation_deaths = int(sum(map(lambda d: d * (simulation_df[\"2018_country_population\"][0] / 100000), predicted_mortality)))\n",
    "observed_deaths = int(simulation_df[\"Deaths\"].tail(1).values[0])\n",
    "sim_pct_diff = \"{:.2f}\".format((simulation_deaths / observed_deaths) * 100)"
   ]
  },
  {
   "cell_type": "code",
   "execution_count": 50,
   "metadata": {},
   "outputs": [
    {
     "name": "stdout",
     "output_type": "stream",
     "text": [
      "Counterfactual vs observed deaths over 63 days: 461 vs 533, 86.49%.\n"
     ]
    }
   ],
   "source": [
    "print(f\"Counterfactual vs observed deaths over {len(counterfactual_mortality)} days: {simulation_deaths} vs {observed_deaths}, {sim_pct_diff}%.\")"
   ]
  },
  {
   "cell_type": "code",
   "execution_count": null,
   "metadata": {},
   "outputs": [],
   "source": []
  },
  {
   "cell_type": "code",
   "execution_count": null,
   "metadata": {},
   "outputs": [],
   "source": []
  }
 ],
 "metadata": {
  "kernelspec": {
   "display_name": "covid",
   "language": "python",
   "name": "covid"
  },
  "language_info": {
   "codemirror_mode": {
    "name": "ipython",
    "version": 3
   },
   "file_extension": ".py",
   "mimetype": "text/x-python",
   "name": "python",
   "nbconvert_exporter": "python",
   "pygments_lexer": "ipython3",
   "version": "3.7.7"
  }
 },
 "nbformat": 4,
 "nbformat_minor": 4
}
