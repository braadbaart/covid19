{
 "cells": [
  {
   "cell_type": "markdown",
   "metadata": {},
   "source": [
    "Counterfactual simulation model for government interventions\n",
    "-------------------------------------------------------------------------\n",
    "\n",
    "RNN-based approach to simulate the effect of timing and taking action on deaths-per-100k inhabitants."
   ]
  },
  {
   "cell_type": "code",
   "execution_count": 1,
   "metadata": {},
   "outputs": [],
   "source": [
    "import datetime\n",
    "import random\n",
    "import numpy as np\n",
    "import pandas as pd\n",
    "import seaborn as sns\n",
    "import tensorflow as tf\n",
    "\n",
    "%matplotlib inline\n",
    "import matplotlib.pyplot as plt"
   ]
  },
  {
   "cell_type": "code",
   "execution_count": 2,
   "metadata": {},
   "outputs": [
    {
     "data": {
      "text/plain": [
       "'2.1.0'"
      ]
     },
     "execution_count": 2,
     "metadata": {},
     "output_type": "execute_result"
    }
   ],
   "source": [
    "tf.__version__"
   ]
  },
  {
   "cell_type": "code",
   "execution_count": 3,
   "metadata": {},
   "outputs": [],
   "source": [
    "pd.options.display.max_colwidth = 200\n",
    "pd.options.display.max_columns = 100"
   ]
  },
  {
   "cell_type": "markdown",
   "metadata": {},
   "source": [
    "#### Data sources\n",
    "\n",
    "* The countermeasures data is made available as part of the John Hopkins [Containment Measures Database](http://epidemicforecasting.org/containment).\n",
    "* The Oxford COVID-19 Government Response Tracker is made available as part of the [OxCGRT](https://www.bsg.ox.ac.uk/research/research-projects/oxford-covid-19-government-response-tracker) project.\n",
    "* The country population data was gathered from the [Word Bank Databank](https://databank.worldbank.org/reports.aspx?source=2&series=SP.POP.TOTL&country=#), with latest data available for 2018."
   ]
  },
  {
   "cell_type": "code",
   "execution_count": 4,
   "metadata": {},
   "outputs": [],
   "source": [
    "johnshopkins_df = pd.read_csv(\"data/countermeasures_db_johnshopkins_2020_03_30.csv\")\n",
    "johnshopkins_df[\"Date\"] = johnshopkins_df[\"Date\"].apply(lambda x: pd.to_datetime(x, format=\"%Y-%m-%d\")).dt.date"
   ]
  },
  {
   "cell_type": "code",
   "execution_count": 5,
   "metadata": {},
   "outputs": [],
   "source": [
    "oxford_grt_df = pd.read_csv(\"data/oxford_uni_response_tracker_08042020.csv\")\n",
    "oxford_grt_df[\"Date\"] = oxford_grt_df[\"Date\"].apply(lambda x: pd.to_datetime(str(x), format=\"%Y-%m-%d\")).dt.date"
   ]
  },
  {
   "cell_type": "code",
   "execution_count": 6,
   "metadata": {},
   "outputs": [],
   "source": [
    "grt_df = oxford_grt_df.drop_duplicates(subset=[\"CountryName\", \"StringencyIndex\"], keep=\"first\")"
   ]
  },
  {
   "cell_type": "code",
   "execution_count": 7,
   "metadata": {},
   "outputs": [],
   "source": [
    "measures_df = pd.merge(johnshopkins_df, grt_df, how=\"outer\", left_on=[\"Date\", \"Country\"], \n",
    "                       right_on=[\"Date\", \"CountryName\"])"
   ]
  },
  {
   "cell_type": "code",
   "execution_count": 8,
   "metadata": {},
   "outputs": [],
   "source": [
    "population_df = pd.read_csv(\"data/wb_country_populations_2018.csv\")[[\"Country Name\", \"2018 [YR2018]\"]]\n",
    "population_df.rename(columns={\"2018 [YR2018]\": \"2018_Country_Population\"}, inplace=True)"
   ]
  },
  {
   "cell_type": "code",
   "execution_count": 9,
   "metadata": {},
   "outputs": [],
   "source": [
    "base_df = pd.merge(measures_df, population_df, how=\"outer\", left_on=\"Country\", right_on=\"Country Name\").fillna(0)\n",
    "base_df = base_df.loc[base_df[\"2018_Country_Population\"] != \"..\"]\n",
    "base_df = base_df.loc[base_df[\"Country\"] != 0]"
   ]
  },
  {
   "cell_type": "code",
   "execution_count": 10,
   "metadata": {},
   "outputs": [
    {
     "data": {
      "text/html": [
       "<div>\n",
       "<style scoped>\n",
       "    .dataframe tbody tr th:only-of-type {\n",
       "        vertical-align: middle;\n",
       "    }\n",
       "\n",
       "    .dataframe tbody tr th {\n",
       "        vertical-align: top;\n",
       "    }\n",
       "\n",
       "    .dataframe thead th {\n",
       "        text-align: right;\n",
       "    }\n",
       "</style>\n",
       "<table border=\"1\" class=\"dataframe\">\n",
       "  <thead>\n",
       "    <tr style=\"text-align: right;\">\n",
       "      <th></th>\n",
       "      <th>Unnamed: 0</th>\n",
       "      <th>Symptomatic isolation - targeted</th>\n",
       "      <th>Symptomatic isolation - blanket</th>\n",
       "      <th>Asymptomatic isolation - targeted</th>\n",
       "      <th>Asymptomatic isolation - blanket</th>\n",
       "      <th>Domestic travel restriction</th>\n",
       "      <th>International travel restriction</th>\n",
       "      <th>Testing</th>\n",
       "      <th>Contact tracing</th>\n",
       "      <th>Mask wearing</th>\n",
       "      <th>Hand washing</th>\n",
       "      <th>Gatherings banned</th>\n",
       "      <th>Healthcare specialisation</th>\n",
       "      <th>Public education and incentives</th>\n",
       "      <th>Assisting people to stay home</th>\n",
       "      <th>Public cleaning</th>\n",
       "      <th>Miscellaneous hygiene measures</th>\n",
       "      <th>Public interaction reduction</th>\n",
       "      <th>Nonessential business suspension</th>\n",
       "      <th>School closure</th>\n",
       "      <th>Activity cancellation</th>\n",
       "      <th>Resumption</th>\n",
       "      <th>Diagnostic criteria loosened</th>\n",
       "      <th>Diagnostic criteria tightened</th>\n",
       "      <th>Testing criteria</th>\n",
       "      <th>Date</th>\n",
       "      <th>Country</th>\n",
       "      <th>Confirmed Cases</th>\n",
       "      <th>Deaths</th>\n",
       "      <th>CountryName</th>\n",
       "      <th>CountryCode</th>\n",
       "      <th>S1_School closing</th>\n",
       "      <th>S1_IsGeneral</th>\n",
       "      <th>S1_Notes</th>\n",
       "      <th>S2_Workplace closing</th>\n",
       "      <th>S2_IsGeneral</th>\n",
       "      <th>S2_Notes</th>\n",
       "      <th>S3_Cancel public events</th>\n",
       "      <th>S3_IsGeneral</th>\n",
       "      <th>S3_Notes</th>\n",
       "      <th>S4_Close public transport</th>\n",
       "      <th>S4_IsGeneral</th>\n",
       "      <th>S4_Notes</th>\n",
       "      <th>S5_Public information campaigns</th>\n",
       "      <th>S5_IsGeneral</th>\n",
       "      <th>S5_Notes</th>\n",
       "      <th>S6_Restrictions on internal movement</th>\n",
       "      <th>S6_IsGeneral</th>\n",
       "      <th>S6_Notes</th>\n",
       "      <th>S7_International travel controls</th>\n",
       "      <th>S7_Notes</th>\n",
       "      <th>S8_Fiscal measures</th>\n",
       "      <th>S8_Notes</th>\n",
       "      <th>S9_Monetary measures</th>\n",
       "      <th>S9_Notes</th>\n",
       "      <th>S10_Emergency investment in health care</th>\n",
       "      <th>S10_Notes</th>\n",
       "      <th>S11_Investment in Vaccines</th>\n",
       "      <th>S11_Notes</th>\n",
       "      <th>S12_Testing framework</th>\n",
       "      <th>S12_Notes</th>\n",
       "      <th>S13_Contact tracing</th>\n",
       "      <th>S13_Notes</th>\n",
       "      <th>ConfirmedCases</th>\n",
       "      <th>ConfirmedDeaths</th>\n",
       "      <th>StringencyIndex</th>\n",
       "      <th>StringencyIndexForDisplay</th>\n",
       "      <th>Unnamed: 39</th>\n",
       "      <th>Country Name</th>\n",
       "      <th>2018_Country_Population</th>\n",
       "    </tr>\n",
       "  </thead>\n",
       "  <tbody>\n",
       "    <tr>\n",
       "      <th>0</th>\n",
       "      <td>0.0</td>\n",
       "      <td>0.0</td>\n",
       "      <td>0.0</td>\n",
       "      <td>0.0</td>\n",
       "      <td>0.0</td>\n",
       "      <td>0.0</td>\n",
       "      <td>0.0</td>\n",
       "      <td>0.0</td>\n",
       "      <td>0.0</td>\n",
       "      <td>0.0</td>\n",
       "      <td>0.0</td>\n",
       "      <td>0.0</td>\n",
       "      <td>0.0</td>\n",
       "      <td>0.0</td>\n",
       "      <td>0.0</td>\n",
       "      <td>0.0</td>\n",
       "      <td>0.0</td>\n",
       "      <td>0.0</td>\n",
       "      <td>0.0</td>\n",
       "      <td>0.0</td>\n",
       "      <td>0.0</td>\n",
       "      <td>0.0</td>\n",
       "      <td>0.0</td>\n",
       "      <td>0.0</td>\n",
       "      <td>0.0</td>\n",
       "      <td>2020-01-23</td>\n",
       "      <td>Austria</td>\n",
       "      <td>0.0</td>\n",
       "      <td>0.0</td>\n",
       "      <td>0</td>\n",
       "      <td>0</td>\n",
       "      <td>0.0</td>\n",
       "      <td>0.0</td>\n",
       "      <td>0</td>\n",
       "      <td>0.0</td>\n",
       "      <td>0.0</td>\n",
       "      <td>0</td>\n",
       "      <td>0.0</td>\n",
       "      <td>0.0</td>\n",
       "      <td>0</td>\n",
       "      <td>0.0</td>\n",
       "      <td>0.0</td>\n",
       "      <td>0</td>\n",
       "      <td>0.0</td>\n",
       "      <td>0.0</td>\n",
       "      <td>0</td>\n",
       "      <td>0.0</td>\n",
       "      <td>0.0</td>\n",
       "      <td>0</td>\n",
       "      <td>0.0</td>\n",
       "      <td>0</td>\n",
       "      <td>0.0</td>\n",
       "      <td>0</td>\n",
       "      <td>0.0</td>\n",
       "      <td>0</td>\n",
       "      <td>0.0</td>\n",
       "      <td>0</td>\n",
       "      <td>0.0</td>\n",
       "      <td>0</td>\n",
       "      <td>0.0</td>\n",
       "      <td>0</td>\n",
       "      <td>0.0</td>\n",
       "      <td>0</td>\n",
       "      <td>0.0</td>\n",
       "      <td>0.0</td>\n",
       "      <td>0.0</td>\n",
       "      <td>0.0</td>\n",
       "      <td>0</td>\n",
       "      <td>Austria</td>\n",
       "      <td>8847037</td>\n",
       "    </tr>\n",
       "    <tr>\n",
       "      <th>1</th>\n",
       "      <td>86.0</td>\n",
       "      <td>0.0</td>\n",
       "      <td>0.0</td>\n",
       "      <td>0.0</td>\n",
       "      <td>0.0</td>\n",
       "      <td>0.0</td>\n",
       "      <td>0.0</td>\n",
       "      <td>0.0</td>\n",
       "      <td>0.0</td>\n",
       "      <td>0.0</td>\n",
       "      <td>0.0</td>\n",
       "      <td>0.0</td>\n",
       "      <td>0.0</td>\n",
       "      <td>0.0</td>\n",
       "      <td>0.0</td>\n",
       "      <td>0.0</td>\n",
       "      <td>0.0</td>\n",
       "      <td>0.0</td>\n",
       "      <td>0.0</td>\n",
       "      <td>0.0</td>\n",
       "      <td>0.0</td>\n",
       "      <td>0.0</td>\n",
       "      <td>0.0</td>\n",
       "      <td>0.0</td>\n",
       "      <td>0.0</td>\n",
       "      <td>2020-01-24</td>\n",
       "      <td>Austria</td>\n",
       "      <td>0.0</td>\n",
       "      <td>0.0</td>\n",
       "      <td>0</td>\n",
       "      <td>0</td>\n",
       "      <td>0.0</td>\n",
       "      <td>0.0</td>\n",
       "      <td>0</td>\n",
       "      <td>0.0</td>\n",
       "      <td>0.0</td>\n",
       "      <td>0</td>\n",
       "      <td>0.0</td>\n",
       "      <td>0.0</td>\n",
       "      <td>0</td>\n",
       "      <td>0.0</td>\n",
       "      <td>0.0</td>\n",
       "      <td>0</td>\n",
       "      <td>0.0</td>\n",
       "      <td>0.0</td>\n",
       "      <td>0</td>\n",
       "      <td>0.0</td>\n",
       "      <td>0.0</td>\n",
       "      <td>0</td>\n",
       "      <td>0.0</td>\n",
       "      <td>0</td>\n",
       "      <td>0.0</td>\n",
       "      <td>0</td>\n",
       "      <td>0.0</td>\n",
       "      <td>0</td>\n",
       "      <td>0.0</td>\n",
       "      <td>0</td>\n",
       "      <td>0.0</td>\n",
       "      <td>0</td>\n",
       "      <td>0.0</td>\n",
       "      <td>0</td>\n",
       "      <td>0.0</td>\n",
       "      <td>0</td>\n",
       "      <td>0.0</td>\n",
       "      <td>0.0</td>\n",
       "      <td>0.0</td>\n",
       "      <td>0.0</td>\n",
       "      <td>0</td>\n",
       "      <td>Austria</td>\n",
       "      <td>8847037</td>\n",
       "    </tr>\n",
       "    <tr>\n",
       "      <th>2</th>\n",
       "      <td>172.0</td>\n",
       "      <td>0.0</td>\n",
       "      <td>0.0</td>\n",
       "      <td>0.0</td>\n",
       "      <td>0.0</td>\n",
       "      <td>0.0</td>\n",
       "      <td>0.0</td>\n",
       "      <td>0.0</td>\n",
       "      <td>0.0</td>\n",
       "      <td>0.0</td>\n",
       "      <td>0.0</td>\n",
       "      <td>0.0</td>\n",
       "      <td>0.0</td>\n",
       "      <td>0.0</td>\n",
       "      <td>0.0</td>\n",
       "      <td>0.0</td>\n",
       "      <td>0.0</td>\n",
       "      <td>0.0</td>\n",
       "      <td>0.0</td>\n",
       "      <td>0.0</td>\n",
       "      <td>0.0</td>\n",
       "      <td>0.0</td>\n",
       "      <td>0.0</td>\n",
       "      <td>0.0</td>\n",
       "      <td>0.0</td>\n",
       "      <td>2020-01-25</td>\n",
       "      <td>Austria</td>\n",
       "      <td>0.0</td>\n",
       "      <td>0.0</td>\n",
       "      <td>0</td>\n",
       "      <td>0</td>\n",
       "      <td>0.0</td>\n",
       "      <td>0.0</td>\n",
       "      <td>0</td>\n",
       "      <td>0.0</td>\n",
       "      <td>0.0</td>\n",
       "      <td>0</td>\n",
       "      <td>0.0</td>\n",
       "      <td>0.0</td>\n",
       "      <td>0</td>\n",
       "      <td>0.0</td>\n",
       "      <td>0.0</td>\n",
       "      <td>0</td>\n",
       "      <td>0.0</td>\n",
       "      <td>0.0</td>\n",
       "      <td>0</td>\n",
       "      <td>0.0</td>\n",
       "      <td>0.0</td>\n",
       "      <td>0</td>\n",
       "      <td>0.0</td>\n",
       "      <td>0</td>\n",
       "      <td>0.0</td>\n",
       "      <td>0</td>\n",
       "      <td>0.0</td>\n",
       "      <td>0</td>\n",
       "      <td>0.0</td>\n",
       "      <td>0</td>\n",
       "      <td>0.0</td>\n",
       "      <td>0</td>\n",
       "      <td>0.0</td>\n",
       "      <td>0</td>\n",
       "      <td>0.0</td>\n",
       "      <td>0</td>\n",
       "      <td>0.0</td>\n",
       "      <td>0.0</td>\n",
       "      <td>0.0</td>\n",
       "      <td>0.0</td>\n",
       "      <td>0</td>\n",
       "      <td>Austria</td>\n",
       "      <td>8847037</td>\n",
       "    </tr>\n",
       "    <tr>\n",
       "      <th>3</th>\n",
       "      <td>258.0</td>\n",
       "      <td>0.0</td>\n",
       "      <td>0.0</td>\n",
       "      <td>0.0</td>\n",
       "      <td>0.0</td>\n",
       "      <td>0.0</td>\n",
       "      <td>0.0</td>\n",
       "      <td>0.0</td>\n",
       "      <td>0.0</td>\n",
       "      <td>0.0</td>\n",
       "      <td>0.0</td>\n",
       "      <td>0.0</td>\n",
       "      <td>0.0</td>\n",
       "      <td>0.0</td>\n",
       "      <td>0.0</td>\n",
       "      <td>0.0</td>\n",
       "      <td>0.0</td>\n",
       "      <td>0.0</td>\n",
       "      <td>0.0</td>\n",
       "      <td>0.0</td>\n",
       "      <td>0.0</td>\n",
       "      <td>0.0</td>\n",
       "      <td>0.0</td>\n",
       "      <td>0.0</td>\n",
       "      <td>0.0</td>\n",
       "      <td>2020-01-26</td>\n",
       "      <td>Austria</td>\n",
       "      <td>0.0</td>\n",
       "      <td>0.0</td>\n",
       "      <td>0</td>\n",
       "      <td>0</td>\n",
       "      <td>0.0</td>\n",
       "      <td>0.0</td>\n",
       "      <td>0</td>\n",
       "      <td>0.0</td>\n",
       "      <td>0.0</td>\n",
       "      <td>0</td>\n",
       "      <td>0.0</td>\n",
       "      <td>0.0</td>\n",
       "      <td>0</td>\n",
       "      <td>0.0</td>\n",
       "      <td>0.0</td>\n",
       "      <td>0</td>\n",
       "      <td>0.0</td>\n",
       "      <td>0.0</td>\n",
       "      <td>0</td>\n",
       "      <td>0.0</td>\n",
       "      <td>0.0</td>\n",
       "      <td>0</td>\n",
       "      <td>0.0</td>\n",
       "      <td>0</td>\n",
       "      <td>0.0</td>\n",
       "      <td>0</td>\n",
       "      <td>0.0</td>\n",
       "      <td>0</td>\n",
       "      <td>0.0</td>\n",
       "      <td>0</td>\n",
       "      <td>0.0</td>\n",
       "      <td>0</td>\n",
       "      <td>0.0</td>\n",
       "      <td>0</td>\n",
       "      <td>0.0</td>\n",
       "      <td>0</td>\n",
       "      <td>0.0</td>\n",
       "      <td>0.0</td>\n",
       "      <td>0.0</td>\n",
       "      <td>0.0</td>\n",
       "      <td>0</td>\n",
       "      <td>Austria</td>\n",
       "      <td>8847037</td>\n",
       "    </tr>\n",
       "    <tr>\n",
       "      <th>4</th>\n",
       "      <td>344.0</td>\n",
       "      <td>0.0</td>\n",
       "      <td>0.0</td>\n",
       "      <td>0.0</td>\n",
       "      <td>0.0</td>\n",
       "      <td>0.0</td>\n",
       "      <td>0.0</td>\n",
       "      <td>0.0</td>\n",
       "      <td>0.0</td>\n",
       "      <td>0.0</td>\n",
       "      <td>0.0</td>\n",
       "      <td>0.0</td>\n",
       "      <td>0.0</td>\n",
       "      <td>0.0</td>\n",
       "      <td>0.0</td>\n",
       "      <td>0.0</td>\n",
       "      <td>0.0</td>\n",
       "      <td>0.0</td>\n",
       "      <td>0.0</td>\n",
       "      <td>0.0</td>\n",
       "      <td>0.0</td>\n",
       "      <td>0.0</td>\n",
       "      <td>0.0</td>\n",
       "      <td>0.0</td>\n",
       "      <td>0.0</td>\n",
       "      <td>2020-01-27</td>\n",
       "      <td>Austria</td>\n",
       "      <td>0.0</td>\n",
       "      <td>0.0</td>\n",
       "      <td>0</td>\n",
       "      <td>0</td>\n",
       "      <td>0.0</td>\n",
       "      <td>0.0</td>\n",
       "      <td>0</td>\n",
       "      <td>0.0</td>\n",
       "      <td>0.0</td>\n",
       "      <td>0</td>\n",
       "      <td>0.0</td>\n",
       "      <td>0.0</td>\n",
       "      <td>0</td>\n",
       "      <td>0.0</td>\n",
       "      <td>0.0</td>\n",
       "      <td>0</td>\n",
       "      <td>0.0</td>\n",
       "      <td>0.0</td>\n",
       "      <td>0</td>\n",
       "      <td>0.0</td>\n",
       "      <td>0.0</td>\n",
       "      <td>0</td>\n",
       "      <td>0.0</td>\n",
       "      <td>0</td>\n",
       "      <td>0.0</td>\n",
       "      <td>0</td>\n",
       "      <td>0.0</td>\n",
       "      <td>0</td>\n",
       "      <td>0.0</td>\n",
       "      <td>0</td>\n",
       "      <td>0.0</td>\n",
       "      <td>0</td>\n",
       "      <td>0.0</td>\n",
       "      <td>0</td>\n",
       "      <td>0.0</td>\n",
       "      <td>0</td>\n",
       "      <td>0.0</td>\n",
       "      <td>0.0</td>\n",
       "      <td>0.0</td>\n",
       "      <td>0.0</td>\n",
       "      <td>0</td>\n",
       "      <td>Austria</td>\n",
       "      <td>8847037</td>\n",
       "    </tr>\n",
       "  </tbody>\n",
       "</table>\n",
       "</div>"
      ],
      "text/plain": [
       "   Unnamed: 0  Symptomatic isolation - targeted  \\\n",
       "0         0.0                               0.0   \n",
       "1        86.0                               0.0   \n",
       "2       172.0                               0.0   \n",
       "3       258.0                               0.0   \n",
       "4       344.0                               0.0   \n",
       "\n",
       "   Symptomatic isolation - blanket  Asymptomatic isolation - targeted  \\\n",
       "0                              0.0                                0.0   \n",
       "1                              0.0                                0.0   \n",
       "2                              0.0                                0.0   \n",
       "3                              0.0                                0.0   \n",
       "4                              0.0                                0.0   \n",
       "\n",
       "   Asymptomatic isolation - blanket  Domestic travel restriction  \\\n",
       "0                               0.0                          0.0   \n",
       "1                               0.0                          0.0   \n",
       "2                               0.0                          0.0   \n",
       "3                               0.0                          0.0   \n",
       "4                               0.0                          0.0   \n",
       "\n",
       "   International travel restriction  Testing  Contact tracing  Mask wearing  \\\n",
       "0                               0.0      0.0              0.0           0.0   \n",
       "1                               0.0      0.0              0.0           0.0   \n",
       "2                               0.0      0.0              0.0           0.0   \n",
       "3                               0.0      0.0              0.0           0.0   \n",
       "4                               0.0      0.0              0.0           0.0   \n",
       "\n",
       "   Hand washing  Gatherings banned  Healthcare specialisation  \\\n",
       "0           0.0                0.0                        0.0   \n",
       "1           0.0                0.0                        0.0   \n",
       "2           0.0                0.0                        0.0   \n",
       "3           0.0                0.0                        0.0   \n",
       "4           0.0                0.0                        0.0   \n",
       "\n",
       "   Public education and incentives  Assisting people to stay home  \\\n",
       "0                              0.0                            0.0   \n",
       "1                              0.0                            0.0   \n",
       "2                              0.0                            0.0   \n",
       "3                              0.0                            0.0   \n",
       "4                              0.0                            0.0   \n",
       "\n",
       "   Public cleaning  Miscellaneous hygiene measures  \\\n",
       "0              0.0                             0.0   \n",
       "1              0.0                             0.0   \n",
       "2              0.0                             0.0   \n",
       "3              0.0                             0.0   \n",
       "4              0.0                             0.0   \n",
       "\n",
       "   Public interaction reduction  Nonessential business suspension  \\\n",
       "0                           0.0                               0.0   \n",
       "1                           0.0                               0.0   \n",
       "2                           0.0                               0.0   \n",
       "3                           0.0                               0.0   \n",
       "4                           0.0                               0.0   \n",
       "\n",
       "   School closure  Activity cancellation  Resumption  \\\n",
       "0             0.0                    0.0         0.0   \n",
       "1             0.0                    0.0         0.0   \n",
       "2             0.0                    0.0         0.0   \n",
       "3             0.0                    0.0         0.0   \n",
       "4             0.0                    0.0         0.0   \n",
       "\n",
       "   Diagnostic criteria loosened  Diagnostic criteria tightened  \\\n",
       "0                           0.0                            0.0   \n",
       "1                           0.0                            0.0   \n",
       "2                           0.0                            0.0   \n",
       "3                           0.0                            0.0   \n",
       "4                           0.0                            0.0   \n",
       "\n",
       "   Testing criteria        Date  Country  Confirmed Cases  Deaths CountryName  \\\n",
       "0               0.0  2020-01-23  Austria              0.0     0.0           0   \n",
       "1               0.0  2020-01-24  Austria              0.0     0.0           0   \n",
       "2               0.0  2020-01-25  Austria              0.0     0.0           0   \n",
       "3               0.0  2020-01-26  Austria              0.0     0.0           0   \n",
       "4               0.0  2020-01-27  Austria              0.0     0.0           0   \n",
       "\n",
       "  CountryCode  S1_School closing  S1_IsGeneral S1_Notes  S2_Workplace closing  \\\n",
       "0           0                0.0           0.0        0                   0.0   \n",
       "1           0                0.0           0.0        0                   0.0   \n",
       "2           0                0.0           0.0        0                   0.0   \n",
       "3           0                0.0           0.0        0                   0.0   \n",
       "4           0                0.0           0.0        0                   0.0   \n",
       "\n",
       "   S2_IsGeneral S2_Notes  S3_Cancel public events  S3_IsGeneral S3_Notes  \\\n",
       "0           0.0        0                      0.0           0.0        0   \n",
       "1           0.0        0                      0.0           0.0        0   \n",
       "2           0.0        0                      0.0           0.0        0   \n",
       "3           0.0        0                      0.0           0.0        0   \n",
       "4           0.0        0                      0.0           0.0        0   \n",
       "\n",
       "   S4_Close public transport  S4_IsGeneral S4_Notes  \\\n",
       "0                        0.0           0.0        0   \n",
       "1                        0.0           0.0        0   \n",
       "2                        0.0           0.0        0   \n",
       "3                        0.0           0.0        0   \n",
       "4                        0.0           0.0        0   \n",
       "\n",
       "   S5_Public information campaigns  S5_IsGeneral S5_Notes  \\\n",
       "0                              0.0           0.0        0   \n",
       "1                              0.0           0.0        0   \n",
       "2                              0.0           0.0        0   \n",
       "3                              0.0           0.0        0   \n",
       "4                              0.0           0.0        0   \n",
       "\n",
       "   S6_Restrictions on internal movement  S6_IsGeneral S6_Notes  \\\n",
       "0                                   0.0           0.0        0   \n",
       "1                                   0.0           0.0        0   \n",
       "2                                   0.0           0.0        0   \n",
       "3                                   0.0           0.0        0   \n",
       "4                                   0.0           0.0        0   \n",
       "\n",
       "   S7_International travel controls S7_Notes  S8_Fiscal measures S8_Notes  \\\n",
       "0                               0.0        0                 0.0        0   \n",
       "1                               0.0        0                 0.0        0   \n",
       "2                               0.0        0                 0.0        0   \n",
       "3                               0.0        0                 0.0        0   \n",
       "4                               0.0        0                 0.0        0   \n",
       "\n",
       "   S9_Monetary measures S9_Notes  S10_Emergency investment in health care  \\\n",
       "0                   0.0        0                                      0.0   \n",
       "1                   0.0        0                                      0.0   \n",
       "2                   0.0        0                                      0.0   \n",
       "3                   0.0        0                                      0.0   \n",
       "4                   0.0        0                                      0.0   \n",
       "\n",
       "  S10_Notes  S11_Investment in Vaccines S11_Notes  S12_Testing framework  \\\n",
       "0         0                         0.0         0                    0.0   \n",
       "1         0                         0.0         0                    0.0   \n",
       "2         0                         0.0         0                    0.0   \n",
       "3         0                         0.0         0                    0.0   \n",
       "4         0                         0.0         0                    0.0   \n",
       "\n",
       "  S12_Notes  S13_Contact tracing S13_Notes  ConfirmedCases  ConfirmedDeaths  \\\n",
       "0         0                  0.0         0             0.0              0.0   \n",
       "1         0                  0.0         0             0.0              0.0   \n",
       "2         0                  0.0         0             0.0              0.0   \n",
       "3         0                  0.0         0             0.0              0.0   \n",
       "4         0                  0.0         0             0.0              0.0   \n",
       "\n",
       "   StringencyIndex  StringencyIndexForDisplay Unnamed: 39 Country Name  \\\n",
       "0              0.0                        0.0           0      Austria   \n",
       "1              0.0                        0.0           0      Austria   \n",
       "2              0.0                        0.0           0      Austria   \n",
       "3              0.0                        0.0           0      Austria   \n",
       "4              0.0                        0.0           0      Austria   \n",
       "\n",
       "  2018_Country_Population  \n",
       "0                 8847037  \n",
       "1                 8847037  \n",
       "2                 8847037  \n",
       "3                 8847037  \n",
       "4                 8847037  "
      ]
     },
     "execution_count": 10,
     "metadata": {},
     "output_type": "execute_result"
    }
   ],
   "source": [
    "base_df.head()"
   ]
  },
  {
   "cell_type": "code",
   "execution_count": 11,
   "metadata": {},
   "outputs": [
    {
     "name": "stdout",
     "output_type": "stream",
     "text": [
      "['Austria' 'Germany' 'United Kingdom' 'Vietnam' 'South Korea' 'Singapore'\n",
      " 'Israel' 'Japan' 'Sweden' 'San Marino' 'Slovenia' 'Canada' 'Taiwan'\n",
      " 'Macau' 'Hong Kong' 'China' 'Thailand' 'Italy' 'Czechia' 'Australia'\n",
      " 'Trinidad and Tobago' 'Qatar' 'New Zealand' 'Colombia' 'Romania' 'France'\n",
      " 'Portugal' 'Spain' 'Belgium' 'Luxembourg' 'Albania' 'Andorra'\n",
      " 'Azerbaijan' 'Belarus' 'Bosnia and Herzegovina' 'Bulgaria' 'Denmark'\n",
      " 'Estonia' 'Cyprus' 'Croatia' 'Finland' 'Georgia' 'Hungary' 'Latvia'\n",
      " 'Lithuania' 'Greece' 'Moldova' 'Malta' 'Monaco' 'Netherlands' 'Iceland'\n",
      " 'Ireland' 'Kosovo' 'Kazakhstan' 'Poland' 'Turkey' 'Ukraine' 'Slovakia'\n",
      " 'Serbia' 'Switzerland' 'Norway' 'Montenegro' 'Iran' 'Liechtenstein'\n",
      " 'Russia' 'Mexico' 'Egypt' 'Malaysia' 'Nepal' 'Afghanistan' 'Iraq'\n",
      " 'Philippines' 'Kuwait' 'South Africa' 'Armenia' 'Pakistan' 'Brazil'\n",
      " 'Costa Rica' 'Panama' 'India' 'Bahrain' 'United Arab Emirates'\n",
      " 'Kyrgyzstan' 'Indonesia' 'Namibia' 'Uganda']\n"
     ]
    }
   ],
   "source": [
    "print(base_df[\"Country\"].unique())"
   ]
  },
  {
   "cell_type": "code",
   "execution_count": 12,
   "metadata": {},
   "outputs": [
    {
     "data": {
      "text/plain": [
       "Index(['Unnamed: 0', 'Symptomatic isolation - targeted',\n",
       "       'Symptomatic isolation - blanket', 'Asymptomatic isolation - targeted',\n",
       "       'Asymptomatic isolation - blanket', 'Domestic travel restriction',\n",
       "       'International travel restriction', 'Testing', 'Contact tracing',\n",
       "       'Mask wearing', 'Hand washing', 'Gatherings banned',\n",
       "       'Healthcare specialisation', 'Public education and incentives',\n",
       "       'Assisting people to stay home', 'Public cleaning',\n",
       "       'Miscellaneous hygiene measures', 'Public interaction reduction',\n",
       "       'Nonessential business suspension', 'School closure',\n",
       "       'Activity cancellation', 'Resumption', 'Diagnostic criteria loosened',\n",
       "       'Diagnostic criteria tightened', 'Testing criteria', 'Date', 'Country',\n",
       "       'Confirmed Cases', 'Deaths', 'CountryName', 'CountryCode',\n",
       "       'S1_School closing', 'S1_IsGeneral', 'S1_Notes', 'S2_Workplace closing',\n",
       "       'S2_IsGeneral', 'S2_Notes', 'S3_Cancel public events', 'S3_IsGeneral',\n",
       "       'S3_Notes', 'S4_Close public transport', 'S4_IsGeneral', 'S4_Notes',\n",
       "       'S5_Public information campaigns', 'S5_IsGeneral', 'S5_Notes',\n",
       "       'S6_Restrictions on internal movement', 'S6_IsGeneral', 'S6_Notes',\n",
       "       'S7_International travel controls', 'S7_Notes', 'S8_Fiscal measures',\n",
       "       'S8_Notes', 'S9_Monetary measures', 'S9_Notes',\n",
       "       'S10_Emergency investment in health care', 'S10_Notes',\n",
       "       'S11_Investment in Vaccines', 'S11_Notes', 'S12_Testing framework',\n",
       "       'S12_Notes', 'S13_Contact tracing', 'S13_Notes', 'ConfirmedCases',\n",
       "       'ConfirmedDeaths', 'StringencyIndex', 'StringencyIndexForDisplay',\n",
       "       'Unnamed: 39', 'Country Name', '2018_Country_Population'],\n",
       "      dtype='object')"
      ]
     },
     "execution_count": 12,
     "metadata": {},
     "output_type": "execute_result"
    }
   ],
   "source": [
    "base_df.columns"
   ]
  },
  {
   "cell_type": "code",
   "execution_count": 13,
   "metadata": {},
   "outputs": [],
   "source": [
    "other_cm_cols = ['Unnamed: 0', 'Resumption', 'Diagnostic criteria tightened', 'Diagnostic criteria loosened',\n",
    "                 'Testing criteria', 'Date', 'Country', 'Confirmed Cases', 'Deaths', 'Country Name', 'CountryName',\n",
    "                 'CountryCode', 'ConfirmedCases', 'ConfirmedDeaths', 'StringencyIndex', 'StringencyIndexForDisplay',\n",
    "                 'Unnamed: 39', 'Country Name', '2018_Country_Population', 'Deaths_per_100k']"
   ]
  },
  {
   "cell_type": "code",
   "execution_count": 14,
   "metadata": {},
   "outputs": [],
   "source": [
    "countermeasures = list(filter(lambda m: m not in other_cm_cols and not \n",
    "                              m.endswith(\"_Notes\") and not m.endswith(\"_IsGeneral\"), base_df.columns))"
   ]
  },
  {
   "cell_type": "code",
   "execution_count": 15,
   "metadata": {},
   "outputs": [],
   "source": [
    "df = base_df[countermeasures + [\"Date\", \"Country\", \"Confirmed Cases\", \"Deaths\", \"2018_Country_Population\"]].fillna(0)"
   ]
  },
  {
   "cell_type": "code",
   "execution_count": 16,
   "metadata": {},
   "outputs": [],
   "source": [
    "df[countermeasures] = df[countermeasures].mask(df[countermeasures] > 0, 1.0)"
   ]
  },
  {
   "cell_type": "markdown",
   "metadata": {},
   "source": [
    "## Simulation of the effect and timing of countermeasures\n",
    "\n",
    "Exploration of the impact of government countermeasures on reported Deaths per 100.000 citizens in a single country:\n",
    "\n",
    "* The [model weights](#Simulation-model) are learnt from the relation between countermeasures and mortality for all the other countries in the dataset.\n",
    "* The [counterfactual intervention](#Intervention) (the package of measures described below) is compared to the actual mortality rates.\n",
    "\n",
    "At the moment, the simulation doesn't yet take into account any factors other than the countermeasures (e.g. GDP, Healthcare efficiency, population age, population density) that will also play an important part in determining the morbidity in a country."
   ]
  },
  {
   "cell_type": "markdown",
   "metadata": {},
   "source": [
    "#### Simulation parameters"
   ]
  },
  {
   "cell_type": "code",
   "execution_count": 17,
   "metadata": {},
   "outputs": [],
   "source": [
    "country = \"France\"\n",
    "package = [\"Nonessential business suspension\", \"School closure\", \"Gatherings banned\"]\n",
    "treatment_start = 30  # Counterfactual start date of intervention in days after first reported case"
   ]
  },
  {
   "cell_type": "markdown",
   "metadata": {},
   "source": [
    "#### Model parameters"
   ]
  },
  {
   "cell_type": "code",
   "execution_count": 18,
   "metadata": {},
   "outputs": [],
   "source": [
    "rnn_params = {\n",
    "    \"sequence_length\": 4,\n",
    "    \"batch_size\": 32,\n",
    "    \"num_epochs\": 50,\n",
    "    \"cell_units\": 64,\n",
    "    \"mlp_cells\": 16,\n",
    "    \"dropout_rate\": 0.25\n",
    "}"
   ]
  },
  {
   "cell_type": "code",
   "execution_count": 19,
   "metadata": {},
   "outputs": [],
   "source": [
    "train_validation_split = 0.85"
   ]
  },
  {
   "cell_type": "markdown",
   "metadata": {},
   "source": [
    "#### Preprocess the simulation data\n",
    "\n",
    "In the simulation data, the counterfactual treatment condition is coded '1.0' starting $n$ days after the first reported case of COVID-19 in the country."
   ]
  },
  {
   "cell_type": "code",
   "execution_count": 20,
   "metadata": {},
   "outputs": [],
   "source": [
    "def create_simulation_data(df, country, simulated_measures, treatment_start, measures, seq_length):\n",
    "    \n",
    "    # Simulation parameters\n",
    "    sim_df = df[df[\"Country\"] == country].sort_values(by=\"Date\")\n",
    "    date_first_reported_case = sim_df.loc[sim_df[\"Confirmed Cases\"].ne(0.0).idxmax():, [\"Date\"]].values[0][0]\n",
    "    counterfactual_start_date = date_first_reported_case + datetime.timedelta(days=treatment_start)\n",
    "    \n",
    "    # Simulation counterfactuals\n",
    "    for countermeasure in simulated_measures:\n",
    "        actual_start_date = sim_df.loc[sim_df[countermeasure].idxmax(1.0):, [\"Date\"]].values[0][0]\n",
    "        difference_in_days = (actual_start_date - counterfactual_start_date).days\n",
    "        sim_df.loc[sim_df.index[sim_df[\"Date\"] == counterfactual_start_date].values[0]:, countermeasure] = 1.0\n",
    "        \n",
    "        print(f\"Setting counterfactual start date for treatment '{countermeasure}' to {str(counterfactual_start_date)}.\")\n",
    "        print(f\"Actual start date of treatment '{countermeasure}': {str(actual_start_date)}.\")\n",
    "        print(f\"Intervention in simulation occurs {difference_in_days} days prior to intervention in real life.\")\n",
    "        print(\"\\n\")\n",
    "        \n",
    "    sim_df[[\"Reported Deaths\", \"Reported Cases\"]] = sim_df[[\"Deaths\", \"Confirmed Cases\"]].diff()\n",
    "    sim_df[\"Mortality_per_100k\"] = sim_df[\"Reported Deaths\"] / (\n",
    "        sim_df[\"2018_Country_Population\"].astype(float) / 100000.0)\n",
    "    sim_df[\"Cases_per_100k\"] = sim_df[\"Reported Cases\"] / (\n",
    "        sim_df[\"2018_Country_Population\"].astype(float) / 100000.0)\n",
    "    sim_df = sim_df.fillna(0)\n",
    "    sim_df[\"DateIndex\"] = sim_df[\"Date\"]\n",
    "    sim_df = sim_df.set_index(\"DateIndex\")\n",
    "    \n",
    "    # Prepare data for model input\n",
    "    sim_label_df = sim_df[\"Mortality_per_100k\"]\n",
    "    sim_features_df = sim_df[measures + [\"Cases_per_100k\"]]\n",
    "    \n",
    "    sim_features = []\n",
    "    sim_labels = []\n",
    "\n",
    "    for i in range(int(len(sim_df) - seq_length)):\n",
    "        sim_labels.append(sim_label_df[i + seq_length])\n",
    "        sim_features.append(sim_features_df[i: (i + seq_length)].values)\n",
    "    \n",
    "    X = np.asarray(sim_features)\n",
    "    y = np.asarray(sim_labels)\n",
    "    y = y.reshape((y.shape[0], 1))\n",
    "    \n",
    "    return sim_df, X, y, counterfactual_start_date"
   ]
  },
  {
   "cell_type": "markdown",
   "metadata": {},
   "source": [
    "#### Intervention"
   ]
  },
  {
   "cell_type": "code",
   "execution_count": 21,
   "metadata": {},
   "outputs": [
    {
     "name": "stdout",
     "output_type": "stream",
     "text": [
      "Setting counterfactual start date for treatment 'Nonessential business suspension' to 2020-02-23.\n",
      "Actual start date of treatment 'Nonessential business suspension': 2020-03-15.\n",
      "Intervention in simulation occurs 21 days prior to intervention in real life.\n",
      "\n",
      "\n",
      "Setting counterfactual start date for treatment 'School closure' to 2020-02-23.\n",
      "Actual start date of treatment 'School closure': 2020-03-16.\n",
      "Intervention in simulation occurs 22 days prior to intervention in real life.\n",
      "\n",
      "\n",
      "Setting counterfactual start date for treatment 'Gatherings banned' to 2020-02-23.\n",
      "Actual start date of treatment 'Gatherings banned': 2020-03-15.\n",
      "Intervention in simulation occurs 21 days prior to intervention in real life.\n",
      "\n",
      "\n"
     ]
    }
   ],
   "source": [
    "simulation_df, sim_X, sim_y, cf_start_date = create_simulation_data(df, country, package, treatment_start, \n",
    "                                                                    countermeasures, rnn_params[\"sequence_length\"])"
   ]
  },
  {
   "cell_type": "code",
   "execution_count": 22,
   "metadata": {},
   "outputs": [
    {
     "data": {
      "text/plain": [
       "<matplotlib.axes._subplots.AxesSubplot at 0x110d469d0>"
      ]
     },
     "execution_count": 22,
     "metadata": {},
     "output_type": "execute_result"
    },
    {
     "data": {
      "image/png": "[encoded data removed]",
      "text/plain": [
       "<Figure size 1152x288 with 1 Axes>"
      ]
     },
     "metadata": {
      "needs_background": "light"
     },
     "output_type": "display_data"
    }
   ],
   "source": [
    "plt.figure(figsize=(16,4))\n",
    "sns.lineplot(x=simulation_df.index, y=\"Reported Deaths\", data=simulation_df)"
   ]
  },
  {
   "cell_type": "code",
   "execution_count": 23,
   "metadata": {},
   "outputs": [
    {
     "name": "stdout",
     "output_type": "stream",
     "text": [
      "Recorded 2611.0 COVID-19 deaths from 2020-01-23 to 2020-03-29 (66 days) in the factual data for France.\n"
     ]
    }
   ],
   "source": [
    "record_start = simulation_df[\"Date\"].head(1).values[0]\n",
    "record_end = simulation_df[\"Date\"].tail(1).values[0]\n",
    "num_days = (record_end - record_start).days\n",
    "num_deaths = simulation_df[\"Deaths\"].tail(1).values[0]\n",
    "print(f\"Recorded {num_deaths} COVID-19 deaths from {str(record_start)} to {str(record_end)} ({num_days} days) in the factual data for {country}.\")"
   ]
  },
  {
   "cell_type": "markdown",
   "metadata": {},
   "source": [
    "#### Preprocess the training and validation data\n",
    "\n",
    "In the training data, actual observed mortality rates for COVID-19 all countries in the dataset is prepared as the dependent variable ($y$), with the countermeasures taken by national governments making up the features ($X$)."
   ]
  },
  {
   "cell_type": "code",
   "execution_count": 24,
   "metadata": {},
   "outputs": [],
   "source": [
    "def create_train_and_validation_data(df, country, train_split, measures, seq_length):\n",
    "    train_df = df[df[\"Country\"] != country]\n",
    "    train_countries = list(filter(lambda c: c != country, df[\"Country\"].unique()))\n",
    "    \n",
    "    features = []\n",
    "    labels = []\n",
    "    \n",
    "    # Retrieve the feature sequences and mortality data for each of the countries in the dataset\n",
    "    for country in train_countries:\n",
    "        country_df = train_df[train_df[\"Country\"] == country].sort_values(by=\"Date\")\n",
    "        country_df[[\"Reported Deaths\", \"Reported Cases\"]] = country_df[[\"Deaths\", \"Confirmed Cases\"]].diff()\n",
    "        country_df[\"Mortality_per_100k\"] = country_df[\"Reported Deaths\"] / (\n",
    "            country_df[\"2018_Country_Population\"].astype(float) / 100000.0)\n",
    "        country_df[\"Cases_per_100k\"] = country_df[\"Reported Cases\"] / (\n",
    "            country_df[\"2018_Country_Population\"].astype(float) / 100000.0)\n",
    "        country_df = country_df.replace([-np.inf, np.inf], np.nan)\n",
    "        country_df = country_df.fillna(0)\n",
    "        country_df = country_df.set_index(\"Date\")\n",
    "        \n",
    "        country_label_df = country_df[\"Mortality_per_100k\"]\n",
    "        \n",
    "        country_label_df.loc[country_label_df < 0.0] = 0.0\n",
    "        country_features_df = country_df[measures + [\"Cases_per_100k\"]]\n",
    "        \n",
    "        for i in range(int(len(country_df) - seq_length)):\n",
    "            labels.append(country_label_df[i + seq_length])\n",
    "            features.append(country_features_df[i: (i + seq_length)].values)\n",
    "    \n",
    "    # Shuffle the data\n",
    "    split_point = int(len(features) * train_split)\n",
    "    data = list(zip(features, labels))\n",
    "    random.shuffle(data)\n",
    "    s_features, s_labels = zip(*data)\n",
    "    \n",
    "    # Prepare the data format for the model\n",
    "    train_X = np.asarray(s_features[0:split_point])\n",
    "    train_y = np.asarray(s_labels[0:split_point])\n",
    "    train_y = train_y.reshape((train_y.shape[0], 1))\n",
    "\n",
    "    val_X = np.asarray(s_features[split_point:len(features)])\n",
    "    val_y = np.asarray(s_labels[split_point:len(labels)])\n",
    "    val_y = val_y.reshape((val_y.shape[0], 1))\n",
    "    \n",
    "    return train_X, train_y, val_X, val_y"
   ]
  },
  {
   "cell_type": "code",
   "execution_count": 25,
   "metadata": {},
   "outputs": [
    {
     "name": "stderr",
     "output_type": "stream",
     "text": [
      "/Users/braadbaart/pysphere/covid/lib/python3.7/site-packages/pandas/core/indexing.py:671: SettingWithCopyWarning: \n",
      "A value is trying to be set on a copy of a slice from a DataFrame\n",
      "\n",
      "See the caveats in the documentation: https://pandas.pydata.org/pandas-docs/stable/user_guide/indexing.html#returning-a-view-versus-a-copy\n",
      "  self._setitem_with_indexer(indexer, value)\n"
     ]
    }
   ],
   "source": [
    "X, y, validation_X, validation_y = create_train_and_validation_data(df, country, train_validation_split, \n",
    "                                                                    countermeasures, rnn_params[\"sequence_length\"])"
   ]
  },
  {
   "cell_type": "code",
   "execution_count": 26,
   "metadata": {},
   "outputs": [
    {
     "name": "stdout",
     "output_type": "stream",
     "text": [
      "Prepared 4551 training and 804 validation samples with feature dimensions (4551, 4, 34).\n"
     ]
    }
   ],
   "source": [
    "print(f\"Prepared {len(X)} training and {len(validation_X)} validation samples with feature dimensions {X.shape}.\")"
   ]
  },
  {
   "cell_type": "code",
   "execution_count": 27,
   "metadata": {},
   "outputs": [
    {
     "data": {
      "text/plain": [
       "count    4551.000000\n",
       "mean        0.027121\n",
       "std         0.390061\n",
       "min         0.000000\n",
       "25%         0.000000\n",
       "50%         0.000000\n",
       "75%         0.000000\n",
       "max        17.759361\n",
       "dtype: float64"
      ]
     },
     "execution_count": 27,
     "metadata": {},
     "output_type": "execute_result"
    }
   ],
   "source": [
    "pd.Series(y.T[0]).describe()"
   ]
  },
  {
   "cell_type": "code",
   "execution_count": 28,
   "metadata": {},
   "outputs": [
    {
     "data": {
      "text/plain": [
       "count    804.000000\n",
       "mean       0.020589\n",
       "std        0.196090\n",
       "min        0.000000\n",
       "25%        0.000000\n",
       "50%        0.000000\n",
       "75%        0.000000\n",
       "max        2.959893\n",
       "dtype: float64"
      ]
     },
     "execution_count": 28,
     "metadata": {},
     "output_type": "execute_result"
    }
   ],
   "source": [
    "pd.Series(validation_y.T[0]).describe()"
   ]
  },
  {
   "cell_type": "markdown",
   "metadata": {},
   "source": [
    "### Simulation model"
   ]
  },
  {
   "cell_type": "code",
   "execution_count": 29,
   "metadata": {},
   "outputs": [],
   "source": [
    "model = tf.keras.models.Sequential(name=\"simulation_model\")\n",
    "model.add(tf.keras.layers.LSTM(rnn_params[\"cell_units\"], bias_initializer='zeros',\n",
    "          input_shape=(rnn_params[\"sequence_length\"], len(countermeasures) + 1)))\n",
    "model.add(tf.keras.layers.Dropout(rnn_params[\"dropout_rate\"]))\n",
    "model.add(tf.keras.layers.Dense(rnn_params[\"mlp_cells\"], activation=\"relu\"))\n",
    "model.add(tf.keras.layers.Dropout(rnn_params[\"dropout_rate\"]))\n",
    "model.add(tf.keras.layers.Dense(1, activation=\"sigmoid\"))"
   ]
  },
  {
   "cell_type": "code",
   "execution_count": 30,
   "metadata": {},
   "outputs": [],
   "source": [
    "model.compile(loss=\"mse\", optimizer=\"adam\", metrics=[\"mse\", \"mae\"])"
   ]
  },
  {
   "cell_type": "code",
   "execution_count": 31,
   "metadata": {},
   "outputs": [
    {
     "name": "stdout",
     "output_type": "stream",
     "text": [
      "Model: \"simulation_model\"\n",
      "_________________________________________________________________\n",
      "Layer (type)                 Output Shape              Param #   \n",
      "=================================================================\n",
      "lstm (LSTM)                  (None, 64)                25344     \n",
      "_________________________________________________________________\n",
      "dropout (Dropout)            (None, 64)                0         \n",
      "_________________________________________________________________\n",
      "dense (Dense)                (None, 16)                1040      \n",
      "_________________________________________________________________\n",
      "dropout_1 (Dropout)          (None, 16)                0         \n",
      "_________________________________________________________________\n",
      "dense_1 (Dense)              (None, 1)                 17        \n",
      "=================================================================\n",
      "Total params: 26,401\n",
      "Trainable params: 26,401\n",
      "Non-trainable params: 0\n",
      "_________________________________________________________________\n"
     ]
    }
   ],
   "source": [
    "model.summary()"
   ]
  },
  {
   "cell_type": "code",
   "execution_count": 32,
   "metadata": {},
   "outputs": [],
   "source": [
    "early_stopping = tf.keras.callbacks.EarlyStopping(monitor=\"val_mae\", mode=\"min\", patience=2)"
   ]
  },
  {
   "cell_type": "markdown",
   "metadata": {},
   "source": [
    "#### Train the model"
   ]
  },
  {
   "cell_type": "code",
   "execution_count": 33,
   "metadata": {},
   "outputs": [
    {
     "name": "stdout",
     "output_type": "stream",
     "text": [
      "Train on 4551 samples, validate on 804 samples\n",
      "Epoch 1/50\n",
      "4551/4551 [==============================] - 3s 675us/sample - loss: 0.1918 - mse: 0.1918 - mae: 0.1720 - val_loss: 0.0268 - val_mse: 0.0268 - val_mae: 0.0274\n",
      "Epoch 2/50\n",
      "4551/4551 [==============================] - 1s 190us/sample - loss: 0.1365 - mse: 0.1365 - mae: 0.0364 - val_loss: 0.0265 - val_mse: 0.0265 - val_mae: 0.0248\n",
      "Epoch 3/50\n",
      "4551/4551 [==============================] - 1s 188us/sample - loss: 0.1330 - mse: 0.1330 - mae: 0.0334 - val_loss: 0.0244 - val_mse: 0.0244 - val_mae: 0.0235\n",
      "Epoch 4/50\n",
      "4551/4551 [==============================] - 1s 186us/sample - loss: 0.1322 - mse: 0.1322 - mae: 0.0318 - val_loss: 0.0225 - val_mse: 0.0225 - val_mae: 0.0210\n",
      "Epoch 5/50\n",
      "4551/4551 [==============================] - 1s 188us/sample - loss: 0.1299 - mse: 0.1299 - mae: 0.0294 - val_loss: 0.0238 - val_mse: 0.0238 - val_mae: 0.0246\n",
      "Epoch 6/50\n",
      "4551/4551 [==============================] - 1s 207us/sample - loss: 0.1276 - mse: 0.1276 - mae: 0.0298 - val_loss: 0.0214 - val_mse: 0.0214 - val_mae: 0.0208\n",
      "Epoch 7/50\n",
      "4551/4551 [==============================] - 1s 190us/sample - loss: 0.1294 - mse: 0.1294 - mae: 0.0294 - val_loss: 0.0205 - val_mse: 0.0205 - val_mae: 0.0198\n",
      "Epoch 8/50\n",
      "4551/4551 [==============================] - 1s 191us/sample - loss: 0.1273 - mse: 0.1273 - mae: 0.0291 - val_loss: 0.0196 - val_mse: 0.0196 - val_mae: 0.0189\n",
      "Epoch 9/50\n",
      "4551/4551 [==============================] - 1s 190us/sample - loss: 0.1276 - mse: 0.1276 - mae: 0.0273 - val_loss: 0.0198 - val_mse: 0.0198 - val_mae: 0.0194\n",
      "Epoch 10/50\n",
      "4551/4551 [==============================] - 1s 193us/sample - loss: 0.1255 - mse: 0.1255 - mae: 0.0270 - val_loss: 0.0199 - val_mse: 0.0199 - val_mae: 0.0194\n"
     ]
    }
   ],
   "source": [
    "train = model.fit(X, y, epochs=rnn_params[\"num_epochs\"], batch_size=rnn_params[\"batch_size\"],\n",
    "                  callbacks=[early_stopping], validation_data=(validation_X, validation_y))"
   ]
  },
  {
   "cell_type": "code",
   "execution_count": 34,
   "metadata": {},
   "outputs": [
    {
     "data": {
      "image/png": "[encoded data removed]",
      "text/plain": [
       "<Figure size 432x288 with 1 Axes>"
      ]
     },
     "metadata": {
      "needs_background": "light"
     },
     "output_type": "display_data"
    }
   ],
   "source": [
    "plt.plot(train.history[\"loss\"], label=\"MSE train loss\")\n",
    "plt.plot(train.history[\"val_loss\"], label=\"MSE validation loss\")\n",
    "plt.legend()\n",
    "plt.show()"
   ]
  },
  {
   "cell_type": "markdown",
   "metadata": {},
   "source": [
    "### Run the country simulation with the learnt RNN parameters"
   ]
  },
  {
   "cell_type": "code",
   "execution_count": 35,
   "metadata": {},
   "outputs": [],
   "source": [
    "predicted_mortality = model.predict(sim_X)"
   ]
  },
  {
   "cell_type": "code",
   "execution_count": 36,
   "metadata": {},
   "outputs": [
    {
     "data": {
      "text/plain": [
       "count    6.300000e+01\n",
       "mean     1.007861e-02\n",
       "std      3.454357e-02\n",
       "min      7.124453e-07\n",
       "25%      2.390329e-06\n",
       "50%      3.060306e-04\n",
       "75%      3.074082e-04\n",
       "max      1.980917e-01\n",
       "dtype: float64"
      ]
     },
     "execution_count": 36,
     "metadata": {},
     "output_type": "execute_result"
    }
   ],
   "source": [
    "pd.Series(predicted_mortality.T[0]).describe()"
   ]
  },
  {
   "cell_type": "code",
   "execution_count": 37,
   "metadata": {},
   "outputs": [
    {
     "data": {
      "image/png": "[encoded data removed]",
      "text/plain": [
       "<Figure size 1152x288 with 1 Axes>"
      ]
     },
     "metadata": {
      "needs_background": "light"
     },
     "output_type": "display_data"
    }
   ],
   "source": [
    "plt.figure(figsize=(16, 4))\n",
    "plt.plot(sim_y.T[0], label = \"observed mortality\")\n",
    "plt.plot(predicted_mortality, label = \"counterfactual mortality\")\n",
    "plt.legend()\n",
    "plt.title(f\"Observed vs counterfactual mortality rates in {country} with package <{', '.join(package)}> starting on {cf_start_date}.\")\n",
    "plt.show()"
   ]
  },
  {
   "cell_type": "code",
   "execution_count": null,
   "metadata": {},
   "outputs": [],
   "source": []
  },
  {
   "cell_type": "code",
   "execution_count": null,
   "metadata": {},
   "outputs": [],
   "source": []
  }
 ],
 "metadata": {
  "kernelspec": {
   "display_name": "covid",
   "language": "python",
   "name": "covid"
  },
  "language_info": {
   "codemirror_mode": {
    "name": "ipython",
    "version": 3
   },
   "file_extension": ".py",
   "mimetype": "text/x-python",
   "name": "python",
   "nbconvert_exporter": "python",
   "pygments_lexer": "ipython3",
   "version": "3.7.7"
  }
 },
 "nbformat": 4,
 "nbformat_minor": 4
}
